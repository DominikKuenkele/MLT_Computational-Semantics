{
 "cells": [
  {
   "cell_type": "markdown",
   "metadata": {
    "pycharm": {
     "name": "#%% md\n"
    }
   },
   "source": [
    "# A5: Natural Language Inference using Neural Networks\n",
    "\n",
    "Adam Ek"
   ]
  },
  {
   "cell_type": "markdown",
   "metadata": {
    "pycharm": {
     "name": "#%% md\n"
    }
   },
   "source": [
    "The lab is an exploration and learning exercise to be done in a group and also in discussion with the teachers and other students.\n",
    "\n",
    "Write all your answers and the code in the appropriate boxes below.\n",
    "\n",
    "\n",
    "In this lab we will work with neural networks for natural language inference. Our task is: given a premise sentence P and hypothesis H, what entailment relationship holds between them? Is H entailed by P, contradicted by P or neutral towards P?\n",
    "\n",
    "Given a sentence P, if H definitely describe something true given P then it is an **entailment**. If H describe something that's *maybe* true given P, it's **neutral**, and if H describe something that's definitely *false* given P it's a **contradiction**."
   ]
  },
  {
   "cell_type": "code",
   "execution_count": 20,
   "outputs": [],
   "source": [
    "import math\n",
    "import sys\n",
    "from pprint import pprint\n",
    "\n",
    "import numpy as np\n",
    "import torch\n",
    "import torch.nn as nn\n",
    "from nltk.tokenize import word_tokenize\n",
    "from sklearn.metrics import accuracy_score, precision_score, recall_score\n",
    "from torch import optim\n",
    "from torch.nn import CrossEntropyLoss\n",
    "from torch.utils.data import DataLoader, Dataset"
   ],
   "metadata": {
    "collapsed": false,
    "pycharm": {
     "name": "#%%\n"
    }
   }
  },
  {
   "cell_type": "code",
   "execution_count": 21,
   "outputs": [],
   "source": [
    "PADDING_TOKEN = '<PAD>'\n",
    "UNKNOWN_TOKEN = '<UNK>'\n",
    "UNKNOWN_LABEL = '<UNK>'\n",
    "\n",
    "device = torch.device('cuda:0')"
   ],
   "metadata": {
    "collapsed": false,
    "pycharm": {
     "name": "#%%\n"
    }
   }
  },
  {
   "cell_type": "code",
   "execution_count": 22,
   "outputs": [],
   "source": [
    "hyperparameters = {\n",
    "    'batch_size': 128,\n",
    "    'embedding_dim': 512,\n",
    "    'lstm_out_dim': 512,\n",
    "    'epochs': 3,\n",
    "    'learning_rate': 0.002\n",
    "}"
   ],
   "metadata": {
    "collapsed": false,
    "pycharm": {
     "name": "#%%\n"
    }
   }
  },
  {
   "cell_type": "markdown",
   "metadata": {
    "pycharm": {
     "name": "#%% md\n"
    }
   },
   "source": [
    "## 1. Data"
   ]
  },
  {
   "cell_type": "markdown",
   "metadata": {
    "pycharm": {
     "name": "#%% md\n"
    }
   },
   "source": [
    "We will explore natural language inference using neural networks on the SNLI dataset, described in [1]. The dataset can be downloaded [here](https://nlp.stanford.edu/projects/snli/). We prepared a \"simplified\" version, with only the relevant columns in `simple_snli_1.0.zip`.\n",
    "\n",
    "The (simplified) data is organized as follows (tab-separated values):\n",
    "* Column 1: Premise\n",
    "* Column 2: Hypothesis\n",
    "* Column 3: Relation\n",
    "\n",
    "Like in the previous lab, we'll use torchtext to build a dataloader. You can essentially do the same thing as you did in the last lab, but with our new dataset. **[1 mark]**"
   ]
  },
  {
   "cell_type": "code",
   "execution_count": 23,
   "outputs": [],
   "source": [
    "class SNLIDataset(Dataset):\n",
    "    def __init__(self, path, dataset=None, only_consensus=True):\n",
    "        data_file = self._read_file(path, only_consensus)\n",
    "\n",
    "        if dataset is None:\n",
    "            self.max_length_context = -1\n",
    "            vocab = {PADDING_TOKEN, UNKNOWN_TOKEN}\n",
    "            relations = {UNKNOWN_LABEL}\n",
    "            for sample in data_file:\n",
    "                vocab.update(sample['premise'], sample['hypothesis'])\n",
    "                relations.add(sample['relation'])\n",
    "                self.max_length_context = max(self.max_length_context, len(sample['premise']),\n",
    "                                              len(sample['hypothesis']))\n",
    "\n",
    "            self.vocab = {word: index for index, word in enumerate(list(vocab))}\n",
    "            self.relations = {relation: index for index, relation in enumerate(list(relations))}\n",
    "        else:\n",
    "            self.vocab = dataset.vocab\n",
    "            self.relations = dataset.relations\n",
    "            self.max_length_context = dataset.max_length_context\n",
    "\n",
    "        self.samples = []\n",
    "        for sample in data_file:\n",
    "            premise = [self.get_encoded_word(word) for word in sample['premise']]\n",
    "            premise.extend([self.get_encoded_word(PADDING_TOKEN)] * (self.max_length_context - len(sample['premise'])))\n",
    "\n",
    "            hypothesis = [self.get_encoded_word(word) for word in sample['hypothesis']]\n",
    "            hypothesis.extend(\n",
    "                [self.get_encoded_word(PADDING_TOKEN)] * (self.max_length_context - len(sample['hypothesis'])))\n",
    "\n",
    "            self.samples.append({\n",
    "                'premise': torch.tensor(premise),\n",
    "                'hypothesis': torch.tensor(hypothesis),\n",
    "                'relation': torch.tensor(self.get_encoded_relation(sample['relation']))\n",
    "            })\n",
    "\n",
    "    def _read_file(self, path, only_consensus):\n",
    "        NO_CONSENSUS_RELATION = '-'\n",
    "        lines = []\n",
    "        with open(path) as f:\n",
    "            for sample in f:\n",
    "                premise, hypothesis, relation = sample.rstrip().split('\\t')\n",
    "                if relation != NO_CONSENSUS_RELATION or not only_consensus:\n",
    "                    lines.append({\n",
    "                        'premise': [word.lower() for word in word_tokenize(premise)],\n",
    "                        'hypothesis': [word.lower() for word in word_tokenize(hypothesis)],\n",
    "                        'relation': relation\n",
    "                    })\n",
    "        return lines\n",
    "\n",
    "    def get_encoded_word(self, word):\n",
    "        if word in self.vocab:\n",
    "            return self.vocab[word]\n",
    "        else:\n",
    "            return self.vocab[UNKNOWN_TOKEN]\n",
    "\n",
    "    def get_encoded_relation(self, label):\n",
    "        if label in self.relations:\n",
    "            return self.relations[label]\n",
    "        else:\n",
    "            return self.relations[UNKNOWN_LABEL]\n",
    "\n",
    "    def __getitem__(self, item):\n",
    "        return self.samples[item]\n",
    "\n",
    "    def __len__(self):\n",
    "        return len(self.samples)"
   ],
   "metadata": {
    "collapsed": false,
    "pycharm": {
     "name": "#%%\n"
    }
   }
  },
  {
   "cell_type": "code",
   "execution_count": 24,
   "outputs": [
    {
     "name": "stdout",
     "output_type": "stream",
     "text": [
      "[{'premise': tensor([5400, 4646, 2774,  194, 5420, 4213, 2711, 1420, 3911, 4639, 1120, 1120,\n",
      "        1120, 1120, 1120, 1120, 1120, 1120, 1120, 1120, 1120, 1120, 1120, 1120,\n",
      "        1120, 1120, 1120, 1120, 1120, 1120, 1120, 1120, 1120, 1120, 1120, 1120,\n",
      "        1120, 1120, 1120, 1120, 1120, 1120, 1120, 1120, 1120, 1120, 1120, 1120,\n",
      "        1120, 1120, 1120, 1120, 1120, 1120, 1120, 1120, 1120, 1120, 1120]), 'hypothesis': tensor([4824,  439, 2774, 2274,  969, 5420, 4213, 2711, 1420, 3911, 2911, 2531,\n",
      "        3779, 4202, 4639, 1120, 1120, 1120, 1120, 1120, 1120, 1120, 1120, 1120,\n",
      "        1120, 1120, 1120, 1120, 1120, 1120, 1120, 1120, 1120, 1120, 1120, 1120,\n",
      "        1120, 1120, 1120, 1120, 1120, 1120, 1120, 1120, 1120, 1120, 1120, 1120,\n",
      "        1120, 1120, 1120, 1120, 1120, 1120, 1120, 1120, 1120, 1120, 1120]), 'relation': tensor(0)}, {'premise': tensor([5400, 4646, 2774,  194, 5420, 4213, 2711, 1420, 3911, 4639, 1120, 1120,\n",
      "        1120, 1120, 1120, 1120, 1120, 1120, 1120, 1120, 1120, 1120, 1120, 1120,\n",
      "        1120, 1120, 1120, 1120, 1120, 1120, 1120, 1120, 1120, 1120, 1120, 1120,\n",
      "        1120, 1120, 1120, 1120, 1120, 1120, 1120, 1120, 1120, 1120, 1120, 1120,\n",
      "        1120, 1120, 1120, 1120, 1120, 1120, 1120, 1120, 1120, 1120, 1120]), 'hypothesis': tensor([5400, 3187, 2774, 4213, 3911, 4639, 1120, 1120, 1120, 1120, 1120, 1120,\n",
      "        1120, 1120, 1120, 1120, 1120, 1120, 1120, 1120, 1120, 1120, 1120, 1120,\n",
      "        1120, 1120, 1120, 1120, 1120, 1120, 1120, 1120, 1120, 1120, 1120, 1120,\n",
      "        1120, 1120, 1120, 1120, 1120, 1120, 1120, 1120, 1120, 1120, 1120, 1120,\n",
      "        1120, 1120, 1120, 1120, 1120, 1120, 1120, 1120, 1120, 1120, 1120]), 'relation': tensor(2)}]\n"
     ]
    }
   ],
   "source": [
    "dataset = SNLIDataset('simple_snli_1.0_dev.csv')\n",
    "print(dataset[:2])"
   ],
   "metadata": {
    "collapsed": false,
    "pycharm": {
     "name": "#%%\n"
    }
   }
  },
  {
   "cell_type": "code",
   "execution_count": 25,
   "metadata": {
    "pycharm": {
     "name": "#%%\n"
    }
   },
   "outputs": [],
   "source": [
    "def dataloader(path_train, path_test, batch_size):\n",
    "    train_dataset = SNLIDataset(path_train)\n",
    "    test_dataset = SNLIDataset(path_test, train_dataset)\n",
    "\n",
    "    train_dataloader = DataLoader(train_dataset,\n",
    "                                  batch_size=batch_size,\n",
    "                                  shuffle=True)\n",
    "    test_dataloader = DataLoader(test_dataset,\n",
    "                                 batch_size=batch_size,\n",
    "                                 shuffle=True)\n",
    "\n",
    "    return train_dataloader, test_dataloader"
   ]
  },
  {
   "cell_type": "markdown",
   "metadata": {
    "pycharm": {
     "name": "#%% md\n"
    }
   },
   "source": [
    "## 2. Model"
   ]
  },
  {
   "cell_type": "markdown",
   "metadata": {
    "pycharm": {
     "name": "#%% md\n"
    }
   },
   "source": [
    "In this part, we'll build the model for predicting the relationship between H and P.\n",
    "\n",
    "We will process each sentence using an LSTM. Then, we will construct some representation of the sentence. When we have a representation for H and P, we will combine them into one vector which we can use to predict the relationship."
   ]
  },
  {
   "cell_type": "markdown",
   "metadata": {
    "pycharm": {
     "name": "#%% md\n"
    }
   },
   "source": [
    "We will train a model described in [2], the BiLSTM with max-pooling model. The procedure for the model is roughly:\n",
    "\n",
    "    1) Encode the Hypothesis and the Premise using one shared bidirectional LSTM (or two different LSTMS)\n",
    "    2) Perform max over the tokens in the premise and the hypothesis\n",
    "    3) Combine the encoded premise and encoded hypothesis into one representation\n",
    "    4) Predict the relationship "
   ]
  },
  {
   "cell_type": "markdown",
   "metadata": {
    "pycharm": {
     "name": "#%% md\n"
    }
   },
   "source": [
    "### Creating a representation of a sentence\n",
    "\n",
    "Let's first consider step 2 where we perform max/mean pooling. There is a function in pytorch for this, but we'll implement it from scratch. \n",
    "\n",
    "Let's consider the general case, what we want to do for these methods is apply some function $f$ along dimension $i$, and we want to do this for all $i$'s. As an example we consider the matrix S with size ``(N, D)`` where N is the number of words and D the number of dimensions:\n",
    "\n",
    "$S = \\begin{bmatrix}\n",
    "    s_{11} & s_{12} & s_{13} & \\dots  & s_{1d} \\\\\n",
    "    s_{21} & s_{22} & s_{23} & \\dots  & s_{2d} \\\\\n",
    "    \\vdots & \\vdots & \\vdots & \\ddots & \\vdots \\\\\n",
    "    s_{n1} & s_{n2} & s_{n3} & \\dots  & s_{nd}\n",
    "\\end{bmatrix}$\n",
    "\n",
    "What we want to do is apply our function $f$ on each dimension, taking the input $s_{1d}, s_{2d}, ..., s_{nd}$ and generating the output $x_d$. \n",
    "\n",
    "You will implement both the max pooling method. When performing max-pooling, $max$ will be the function which selects a _maximum_ value from a vector and $x$ is the output, thus for each dimension $d$ in our output $x$ we get:\n",
    "\n",
    "\\begin{equation}\n",
    "    x_d = max(s_{1d}, s_{2d}, ..., s_{nd})\n",
    "\\end{equation}\n",
    "\n",
    "\n",
    "This operation will reduce a batch of size ``(batch_size, num_words, dimensions)`` to ``(batch_size, dimensions)`` meaning that we now have created a sentence representation based on the content of the words representations in the sentence. \n",
    "\n",
    "Create a function that takes as input a tensor of size ``(batch_size, num_words, dimensions)`` then performs max pooling and returns the result (the output should be of size: ```(batch_size, dimensions)```). [**4 Marks**]"
   ]
  },
  {
   "cell_type": "code",
   "execution_count": 26,
   "metadata": {
    "pycharm": {
     "name": "#%%\n"
    }
   },
   "outputs": [],
   "source": [
    "def pooling(input_tensor, method='max'):\n",
    "    output_tensor = []\n",
    "    for sample in input_tensor:\n",
    "        transposed = torch.transpose(sample, 0, 1)\n",
    "\n",
    "        dim = []\n",
    "        for dimension in transposed:\n",
    "            if method == 'max':\n",
    "                dim.append(max(dimension))\n",
    "            elif method == 'mean':\n",
    "                dim.append(sum(dimension) / len(dimension))\n",
    "            else:\n",
    "                raise ValueError(\"only 'max' or 'mean' pooling possible\")\n",
    "\n",
    "        output_tensor.append(dim)\n",
    "    return torch.tensor(output_tensor)"
   ]
  },
  {
   "cell_type": "code",
   "execution_count": 27,
   "outputs": [],
   "source": [
    "def pooling_fast(input_tensor, method='max'):\n",
    "    if method == 'max':\n",
    "        return torch.max(input_tensor, dim=1).values\n",
    "    elif method == 'mean':\n",
    "        return torch.mean(input_tensor, dim=1).values\n",
    "    else:\n",
    "        raise ValueError(\"only 'max' or 'mean' pooling possible\")"
   ],
   "metadata": {
    "collapsed": false,
    "pycharm": {
     "name": "#%%\n"
    }
   }
  },
  {
   "cell_type": "code",
   "execution_count": 28,
   "outputs": [
    {
     "name": "stdout",
     "output_type": "stream",
     "text": [
      "True\n"
     ]
    }
   ],
   "source": [
    "t1 = torch.randn(16, 59, 256)\n",
    "\n",
    "slow = pooling(t1)\n",
    "fast = pooling_fast(t1)\n",
    "print(torch.equal(slow, fast))"
   ],
   "metadata": {
    "collapsed": false,
    "pycharm": {
     "name": "#%%\n"
    }
   }
  },
  {
   "cell_type": "markdown",
   "metadata": {
    "pycharm": {
     "name": "#%% md\n"
    }
   },
   "source": [
    "### Combining sentence representations\n",
    "\n",
    "Next, we need to combine the premise and hypothesis into one representation. We will do this by concatenating four tensors (the final size of our tensor $X$ should be ``(batch_size, 4d)`` where ``d`` is the number of dimensions that you use): \n",
    "\n",
    "$$X = [P; H; |P-H|; P \\cdot H]$$\n",
    "\n",
    "Here, what we do is concatenating P, H, P times H, and the absolute value of P minus H, then return the result.\n",
    "\n",
    "Implement the function. **[2 marks]**"
   ]
  },
  {
   "cell_type": "code",
   "execution_count": 29,
   "metadata": {
    "pycharm": {
     "name": "#%%\n"
    }
   },
   "outputs": [],
   "source": [
    "def combine_premise_and_hypothesis(premise, hypothesis):\n",
    "    return torch.cat((\n",
    "        premise,\n",
    "        hypothesis,\n",
    "        premise - hypothesis,\n",
    "        premise * hypothesis\n",
    "    ), 1)"
   ]
  },
  {
   "cell_type": "markdown",
   "metadata": {
    "pycharm": {
     "name": "#%% md\n"
    }
   },
   "source": [
    "### Creating the model\n",
    "\n",
    "Finally, we can build the model according to the procedure given previously by using the functions we defined above. Additionaly, in the model you should use *dropout*. For efficiency purposes, it's acceptable to only train the model with either max or mean pooling. \n",
    "\n",
    "Implement the model [**6 marks**]"
   ]
  },
  {
   "cell_type": "code",
   "execution_count": 30,
   "metadata": {
    "pycharm": {
     "name": "#%%\n"
    }
   },
   "outputs": [],
   "source": [
    "class SNLIModel(nn.Module):\n",
    "    def __init__(self, vocab_size, embedding_dim, lstm_out_dim, number_of_relations, padding_idx):\n",
    "        super(SNLIModel, self).__init__()\n",
    "\n",
    "        self.embeddings = nn.Embedding(vocab_size, embedding_dim, padding_idx=padding_idx)\n",
    "        self.rnn = nn.LSTM(embedding_dim, lstm_out_dim, bidirectional=True, batch_first=True)\n",
    "        self.classifier = nn.Linear(2 * 4 * lstm_out_dim, number_of_relations)\n",
    "        self.dropout = nn.Dropout(p=0.25)\n",
    "\n",
    "    def forward(self, premise, hypothesis):\n",
    "        p_embedding = self.embeddings(premise)\n",
    "        h_embedding = self.embeddings(hypothesis)\n",
    "\n",
    "        p_out, _ = self.rnn(p_embedding)\n",
    "        h_out, _ = self.rnn(h_embedding)\n",
    "\n",
    "        p_out = self.dropout(p_out)\n",
    "        h_out = self.dropout(h_out)\n",
    "\n",
    "        p_pooled = pooling_fast(p_out)\n",
    "        h_pooled = pooling_fast(h_out)\n",
    "\n",
    "        ph_representation = combine_premise_and_hypothesis(p_pooled, h_pooled)\n",
    "\n",
    "        predictions = self.classifier(ph_representation)\n",
    "\n",
    "        return predictions"
   ]
  },
  {
   "cell_type": "markdown",
   "metadata": {
    "pycharm": {
     "name": "#%% md\n"
    }
   },
   "source": [
    "## 3. Training and testing"
   ]
  },
  {
   "cell_type": "markdown",
   "metadata": {
    "pycharm": {
     "name": "#%% md\n"
    }
   },
   "source": [
    "As before, implement the training and testing of the model. SNLI can take a very long time to train, so I suggest you only run it for one or two epochs. **[2 marks]** \n",
    "\n",
    "**Tip for efficiency:** *when developing your model, try training and testing the model on one batch (for each epoch) of data to make sure everything works! It's very annoying if you train for N epochs to find out that something went wrong when testing the model, or to find that something goes wrong when moving from epoch 0 to epoch 1.*"
   ]
  },
  {
   "cell_type": "code",
   "execution_count": 31,
   "outputs": [],
   "source": [
    "train_dataloader, test_dataloader = dataloader('simple_snli_1.0_train.csv',\n",
    "                                               'simple_snli_1.0_test.csv',\n",
    "                                               hyperparameters['batch_size'])\n",
    "train_dataset = train_dataloader.dataset"
   ],
   "metadata": {
    "collapsed": false,
    "pycharm": {
     "name": "#%%\n"
    }
   }
  },
  {
   "cell_type": "code",
   "execution_count": 32,
   "outputs": [],
   "source": [
    "loss_function = CrossEntropyLoss()\n",
    "snli_model = SNLIModel(len(train_dataset.vocab),\n",
    "                       hyperparameters['embedding_dim'],\n",
    "                       hyperparameters['lstm_out_dim'],\n",
    "                       len(train_dataset.relations),\n",
    "                       train_dataset.get_encoded_word(PADDING_TOKEN))\n",
    "snli_model.to(device)\n",
    "\n",
    "optimizer = optim.Adam(snli_model.parameters(), lr=hyperparameters['learning_rate'])"
   ],
   "metadata": {
    "collapsed": false,
    "pycharm": {
     "name": "#%%\n"
    }
   }
  },
  {
   "cell_type": "code",
   "execution_count": 33,
   "outputs": [
    {
     "name": "stdout",
     "output_type": "stream",
     "text": [
      "{'batch_size': 128,\n",
      " 'embedding_dim': 512,\n",
      " 'epochs': 3,\n",
      " 'learning_rate': 0.002,\n",
      " 'lstm_out_dim': 512}\n",
      "vocab_size: 36548\n",
      "number relations: 4\n",
      "sentence length: 82\n"
     ]
    }
   ],
   "source": [
    "pprint(hyperparameters)\n",
    "print(f\"vocab_size: {len(train_dataset.vocab)}\")\n",
    "print(f\"number relations: {len(train_dataset.relations)}\")\n",
    "print(f\"sentence length: {train_dataset.max_length_context}\")"
   ],
   "metadata": {
    "collapsed": false,
    "pycharm": {
     "name": "#%%\n"
    }
   }
  },
  {
   "cell_type": "code",
   "execution_count": 34,
   "metadata": {
    "pycharm": {
     "name": "#%%\n"
    }
   },
   "outputs": [
    {
     "name": "stdout",
     "output_type": "stream",
     "text": [
      "3 EPOCHS - 4291 BATCHES PER EPOCH\n",
      "epoch 0, batch 4291: 0.7172\n",
      "epoch 1, batch 4291: 0.6332\n",
      "epoch 2, batch 4291: 0.6999\n"
     ]
    }
   ],
   "source": [
    "print(\n",
    "    f'{hyperparameters[\"epochs\"]} EPOCHS - {math.floor(len(train_dataset) / train_dataloader.batch_size)} BATCHES PER EPOCH')\n",
    "\n",
    "for epoch in range(hyperparameters['epochs']):\n",
    "    total_loss = 0\n",
    "    for i, batch in enumerate(train_dataloader):\n",
    "        batch_premise = batch['premise'].to(device)\n",
    "        batch_hypothesis = batch['hypothesis'].to(device)\n",
    "        batch_relation = batch['relation'].to(device)\n",
    "\n",
    "        output = snli_model(batch_premise, batch_hypothesis)\n",
    "\n",
    "        loss = loss_function(output.view(-1, len(dataset.relations)), batch_relation.view(-1))\n",
    "        total_loss += loss.item()\n",
    "\n",
    "        # print average loss for the epoch\n",
    "        sys.stdout.write(f'\\repoch {epoch}, batch {i}: {np.round(total_loss / (i + 1), 4)}')\n",
    "\n",
    "        # compute gradients\n",
    "        loss.backward()\n",
    "\n",
    "        # update parameters\n",
    "        optimizer.step()\n",
    "\n",
    "        # reset gradients\n",
    "        optimizer.zero_grad()\n",
    "    print()"
   ]
  },
  {
   "cell_type": "code",
   "execution_count": 35,
   "outputs": [],
   "source": [
    "gold_relations = []\n",
    "predicted_relations = []\n",
    "\n",
    "for batch in test_dataloader:\n",
    "    batch_premise = batch['premise'].to(device)\n",
    "    batch_hypothesis = batch['hypothesis'].to(device)\n",
    "\n",
    "    model_output = snli_model(batch_premise, batch_hypothesis).detach().cpu()\n",
    "    predictions = torch.max(model_output, dim=1).indices\n",
    "    for index, gold_relation in enumerate(batch['relation']):\n",
    "        predicted_relations.append(int(predictions[index]))\n",
    "        gold_relations.append(int(gold_relation))"
   ],
   "metadata": {
    "collapsed": false,
    "pycharm": {
     "name": "#%%\n"
    }
   }
  },
  {
   "cell_type": "code",
   "execution_count": 36,
   "outputs": [
    {
     "name": "stdout",
     "output_type": "stream",
     "text": [
      "\n",
      "Accuracy: 0.7552\n",
      "Precision: 0.7544\n",
      "Recall: 0.7545\n",
      "\n"
     ]
    }
   ],
   "source": [
    "print(f\"\"\"\n",
    "Accuracy: {accuracy_score(gold_relations, predicted_relations):.4f}\n",
    "Precision: {precision_score(gold_relations, predicted_relations, average='macro'):.4f}\n",
    "Recall: {recall_score(gold_relations, predicted_relations, average='macro'):.4f}\n",
    "\"\"\")"
   ],
   "metadata": {
    "collapsed": false,
    "pycharm": {
     "name": "#%%\n"
    }
   }
  },
  {
   "cell_type": "markdown",
   "metadata": {
    "pycharm": {
     "name": "#%% md\n"
    }
   },
   "source": [
    "Suggest a _baseline_ that we can compare our model against **[2 marks]**"
   ]
  },
  {
   "cell_type": "markdown",
   "metadata": {
    "pycharm": {
     "name": "#%% md\n"
    }
   },
   "source": [
    "**Your answer should go here**"
   ]
  },
  {
   "cell_type": "markdown",
   "metadata": {
    "pycharm": {
     "name": "#%% md\n"
    }
   },
   "source": [
    "Suggest some ways (other than using a baseline) in which we can analyse the models performance **[4 marks]**."
   ]
  },
  {
   "cell_type": "markdown",
   "metadata": {
    "pycharm": {
     "name": "#%% md\n"
    }
   },
   "source": [
    "**Your answer should go here**"
   ]
  },
  {
   "cell_type": "markdown",
   "metadata": {
    "pycharm": {
     "name": "#%% md\n"
    }
   },
   "source": [
    "Suggest some ways to improve the model **[3 marks]**."
   ]
  },
  {
   "cell_type": "markdown",
   "metadata": {
    "pycharm": {
     "name": "#%% md\n"
    }
   },
   "source": [
    "**Your answer should go here**"
   ]
  },
  {
   "cell_type": "markdown",
   "metadata": {
    "pycharm": {
     "name": "#%% md\n"
    }
   },
   "source": [
    "## Readings\n",
    "\n",
    "[1] Samuel R. Bowman, Gabor Angeli, Christopher Potts, and Christopher D. Manning. 2015. A large annotated corpus for learning natural language inference. In Proceedings of the 2015 Conference on Empirical Methods in Natural Language Processing (EMNLP). \n",
    "\n",
    "[2] Conneau, A., Kiela, D., Schwenk, H., Barrault, L., & Bordes, A. (2017). Supervised learning of universal sentence representations from natural language inference data. arXiv preprint arXiv:1705.02364."
   ]
  },
  {
   "cell_type": "markdown",
   "metadata": {
    "pycharm": {
     "name": "#%% md\n"
    }
   },
   "source": [
    "## Statement of contribution\n",
    "\n",
    "Briefly state how many times you have met for discussions, who was present, to what degree each member contributed to the discussion and the final answers you are submitting."
   ]
  },
  {
   "cell_type": "markdown",
   "metadata": {
    "pycharm": {
     "name": "#%% md\n"
    }
   },
   "source": [
    "## Marks\n",
    "\n",
    "This assignment has a total of 23 marks."
   ]
  }
 ],
 "metadata": {
  "kernelspec": {
   "display_name": "Python 3 (ipykernel)",
   "language": "python",
   "name": "python3"
  },
  "language_info": {
   "codemirror_mode": {
    "name": "ipython",
    "version": 3
   },
   "file_extension": ".py",
   "mimetype": "text/x-python",
   "name": "python",
   "nbconvert_exporter": "python",
   "pygments_lexer": "ipython3",
   "version": "3.10.4"
  }
 },
 "nbformat": 4,
 "nbformat_minor": 2
}