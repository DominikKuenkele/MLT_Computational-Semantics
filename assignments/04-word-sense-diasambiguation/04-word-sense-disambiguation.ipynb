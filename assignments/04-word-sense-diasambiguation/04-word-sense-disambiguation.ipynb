{
 "cells": [
  {
   "cell_type": "markdown",
   "metadata": {
    "pycharm": {
     "name": "#%% md\n"
    }
   },
   "source": [
    "# Word Sense Disambiguation using Neural Networks\n",
    "Adam Ek\n",
    "\n",
    "----------------------------------\n",
    "\n",
    "The lab is an exploration and learning exercise to be done in a group and also in discussion with the teachers and other students.\n",
    "\n",
    "Before starting, please read the instructions on [how to work on group assignments](https://github.com/sdobnik/computational-semantics/blob/master/README.md).\n",
    "\n",
    "Write all your answers and the code in the appropriate boxes below.\n",
    "\n",
    "----------------------------------"
   ]
  },
  {
   "cell_type": "markdown",
   "metadata": {
    "pycharm": {
     "name": "#%% md\n"
    }
   },
   "source": [
    "A problem with static distributional vectors is the difficulty of distinguishing between different *word senses*. We will continue our exploration of word vectors by considering *trainable vectors* or *word embeddings* for Word Sense Disambiguation (WSD).\n",
    "\n",
    "The goal of word sense disambiguation is to train a model to find the sense of a word (homonyms of a word-form). For example, the word \"bank\" can mean \"sloping land\" or \"financial institution\". \n",
    "\n",
    "(a) \"I deposited my money in the **bank**\" (financial institution)\n",
    "\n",
    "(b) \"I swam from the river **bank**\" (sloping land)\n",
    "\n",
    "In case a) and b) we can determine that the meaning of \"bank\" based on the *context*. To utilize context in a semantic model we use *contextualized word representations*. Previously we worked with *static word representations*, i.e. the representation does not depend on the context. To illustrate we can consider sentences (a) and (b), the word **bank** would have the same static representation in both sentences, which means that it becomes difficult for us to predict its sense. What we want is to create representations that depend on the context, i.e. *contextualized embeddings*. \n",
    "\n",
    "We will create contextualized embeddings with Recurrent Neural Networks. You can read more about recurrent neural netoworks [here](https://colah.github.io/posts/2015-08-Understanding-LSTMs/). Your overall task in this lab is to create a neural network model that can disambiguate the word sense of 30 different words. "
   ]
  },
  {
   "cell_type": "code",
   "execution_count": 1,
   "outputs": [],
   "source": [
    "# first we import some packages that we need\n",
    "from collections import defaultdict\n",
    "import math\n",
    "from collections import namedtuple\n",
    "from pprint import pprint\n",
    "import random\n",
    "import torch\n",
    "import torch.nn as nn\n",
    "from torch.utils.data import Dataset\n",
    "from torch.utils.data import DataLoader\n",
    "from torch import optim\n",
    "from torch.nn import CrossEntropyLoss\n",
    "import numpy as np\n",
    "from sklearn.metrics import accuracy_score\n",
    "import sys\n",
    "from transformers import BertModel, BertTokenizer\n",
    "import dill\n",
    "\n",
    "# our hyperparameters (add more when/if you need them)\n",
    "device = torch.device('cuda:0')\n",
    "\n",
    "PADDING_TOKEN = '<PAD>'\n",
    "UNKNOWN_TOKEN = '<UNK>'\n",
    "UNKNOWN_LABEL = '<UNK>'\n",
    "TRAINING_SPLIT = 0.8"
   ],
   "metadata": {
    "collapsed": false,
    "pycharm": {
     "name": "#%%\n"
    }
   }
  },
  {
   "cell_type": "code",
   "execution_count": 2,
   "outputs": [
    {
     "data": {
      "text/plain": "True"
     },
     "execution_count": 2,
     "metadata": {},
     "output_type": "execute_result"
    }
   ],
   "source": [
    "torch.cuda.is_available()"
   ],
   "metadata": {
    "collapsed": false,
    "pycharm": {
     "name": "#%%\n"
    }
   }
  },
  {
   "cell_type": "markdown",
   "source": [
    "# 1. Working with data\n",
    "\n",
    "A central part of any machine learning system is the data we're working with. In this section we will split the data (the dataset is located here: ``wsd-data/wsd_data.txt``) into a training set and a test set. We will also create a baseline to compare our model against. Finally, we will use TorchText to transform our data (raw text) into a convenient format that our neural network can work with."
   ],
   "metadata": {
    "collapsed": false,
    "pycharm": {
     "name": "#%% md\n"
    }
   }
  },
  {
   "cell_type": "markdown",
   "source": [
    "## Data\n",
    "\n",
    "The dataset we will use contain different word sense for 30 different words. The data is organized as follows (values separated by tabs): \n",
    "- Column 1: word-sense\n",
    "- Column 2: word-form\n",
    "- Column 3: index of word\n",
    "- Column 4: white-space tokenized context"
   ],
   "metadata": {
    "collapsed": false,
    "pycharm": {
     "name": "#%% md\n"
    }
   }
  },
  {
   "cell_type": "markdown",
   "source": [
    "### Splitting the data\n",
    "\n",
    "Your first task is to seperate the data into a *training set* and a *test set*. The training set should contain 80% of the examples and the test set the remaining 20%. The examples for the test/training set should be selected **randomly**. Save each dataset into a .csv file for loading later. **[2 marks]**"
   ],
   "metadata": {
    "collapsed": false,
    "pycharm": {
     "name": "#%% md\n"
    }
   }
  },
  {
   "cell_type": "code",
   "execution_count": 3,
   "outputs": [],
   "source": [
    "def data_split(path_to_dataset):\n",
    "    Sample = namedtuple('Sample', 'lemma word_sense word_form index context')\n",
    "\n",
    "    samples = []\n",
    "    with open(path_to_dataset, 'r') as f:\n",
    "        for line in f:\n",
    "            word_sense, word_form, index, context = line.split('\\t')\n",
    "            word, form = word_form.split('.')\n",
    "            samples.append(Sample(word.lower(), word_sense, form, int(index),\n",
    "                                  [context_word.lower() for context_word in context.split(' ')]))\n",
    "\n",
    "    random.shuffle(samples)\n",
    "    split = math.floor(len(samples) * TRAINING_SPLIT)\n",
    "    return samples[:split], samples[split:]"
   ],
   "metadata": {
    "collapsed": false,
    "pycharm": {
     "name": "#%%\n"
    }
   }
  },
  {
   "cell_type": "code",
   "execution_count": 4,
   "outputs": [
    {
     "name": "stdout",
     "output_type": "stream",
     "text": [
      "60839 15210\n"
     ]
    }
   ],
   "source": [
    "train, test = data_split('wsd_data.txt')\n",
    "print(len(train), len(test))\n",
    "\n",
    "# for sample in train[:10]:\n",
    "#    print(sample.word, sample.word_sense, sample.word_form)"
   ],
   "metadata": {
    "collapsed": false,
    "pycharm": {
     "name": "#%%\n"
    }
   }
  },
  {
   "cell_type": "markdown",
   "source": [
    "### Creating a baseline\n",
    "\n",
    "Your second task is to create a *baseline* for the task. A baseline is a \"reality check\" for a model, given a very simple heuristic/algorithmic/model solution to the problem, can our neural network perform better than this?\n",
    "The baseline you are to create is the \"most common sense\" (MCS) baseline. For each word form, find the most commonly assigned sense to the word, and label a words with that sense. **[2 marks]**\n",
    "\n",
    "E.g. In a fictional dataset, \"bank\" have two senses, \"financial institution\" which occur 5 times and \"side of river\" 3 times. Thus, all 8 occurences of bank is labeled \"financial institution\" and this yields an MCS accuracy of 5/8 = 62.5%. If a model obtain a higher score than this, we can conclude that the model *at least* is better than selecting the most frequent word sense."
   ],
   "metadata": {
    "collapsed": false,
    "pycharm": {
     "name": "#%% md\n"
    }
   }
  },
  {
   "cell_type": "code",
   "execution_count": 5,
   "outputs": [],
   "source": [
    "def mcs_baseline(data):\n",
    "    word_senses = {}\n",
    "    for sample in data:\n",
    "        word, sense, *_ = sample\n",
    "\n",
    "        if word not in word_senses:\n",
    "            word_senses[word] = {}\n",
    "\n",
    "        word_senses[word][sense] = word_senses.get(word, {}).get(sense, 0) + 1\n",
    "\n",
    "    return {w: max(s, key=s.get) for w, s in word_senses.items()}"
   ],
   "metadata": {
    "collapsed": false,
    "pycharm": {
     "name": "#%%\n"
    }
   }
  },
  {
   "cell_type": "code",
   "execution_count": 6,
   "outputs": [
    {
     "name": "stdout",
     "output_type": "stream",
     "text": [
      "30\n",
      "{'active': 'active%3:00:03::',\n",
      " 'bad': 'bad%5:00:00:intense:00',\n",
      " 'bring': 'bring%2:38:00::',\n",
      " 'build': 'build%2:36:00::',\n",
      " 'case': 'case%1:26:00::',\n",
      " 'common': 'common%3:00:01::',\n",
      " 'critical': 'critical%5:00:00:indispensable:00',\n",
      " 'extend': 'extend%2:30:06::',\n",
      " 'find': 'find%2:40:02::',\n",
      " 'follow': 'follow%2:38:00::',\n",
      " 'force': 'force%1:07:02::',\n",
      " 'hold': 'hold%2:36:00::',\n",
      " 'keep': 'keep%2:41:03::',\n",
      " 'lead': 'lead%2:38:01::',\n",
      " 'life': 'life%1:26:01::',\n",
      " 'line': 'line%1:04:01::',\n",
      " 'major': 'major%3:00:02::',\n",
      " 'national': 'national%3:00:00::',\n",
      " 'order': 'order%1:10:03::',\n",
      " 'physical': 'physical%3:01:00::',\n",
      " 'place': 'place%1:15:00::',\n",
      " 'point': 'point%1:09:01::',\n",
      " 'position': 'position%1:09:00::',\n",
      " 'positive': 'positive%3:00:01::',\n",
      " 'professional': 'professional%3:01:01::',\n",
      " 'regular': 'regular%5:00:00:frequent:00',\n",
      " 'security': 'security%1:26:00::',\n",
      " 'see': 'see%2:31:00::',\n",
      " 'serve': 'serve%2:33:00::',\n",
      " 'time': 'time%1:11:00::'}\n"
     ]
    }
   ],
   "source": [
    "baseline = mcs_baseline(train)\n",
    "print(len(baseline))\n",
    "pprint(baseline)"
   ],
   "metadata": {
    "collapsed": false,
    "pycharm": {
     "name": "#%%\n"
    }
   }
  },
  {
   "cell_type": "markdown",
   "source": [
    "### Creating data iterators\n",
    "\n",
    "To train a neural network, we first need to prepare the data. This involves converting words (and labels) to a number, and organizing the data into batches. We also want the ability to shuffle the examples such that they appear in a random order.  \n",
    "\n",
    "To do all of this we will use the torchtext library (https://torchtext.readthedocs.io/en/latest/index.html). In addition to converting our data into numerical form and creating batches, it will generate a word and label vocabulary, and data iterators than can sort and shuffle the examples. \n",
    "\n",
    "Your task is to create a dataloader for the training and test set you created previously. So, how do we go about doing this?\n",
    "\n",
    "1) First we create a ``Field`` for each of our columns. A field is a function which tokenize the input, keep a dictionary of word-to-numbers, and fix paddings. So, we need four fields, one for the word-sense, one for the position, one for the lemma and one for the context. \n",
    "\n",
    "2) After we have our fields, we need to process the data. For this we use the ``TabularDataset`` class. We pass the name and path of the training and test files we created previously, then we assign which field to use in each column. The result is that each column will be processed by the field indicated. So, the context column will be tokenized and processed by the context field and so on. \n",
    "\n",
    "3) After we have processed the dataset we need to build the vocabulary, for this we call the function ``build_vocab()`` on the different ``Fields`` with the output from ``TabularDataset`` as input. This looks at our dataset and creates the necessary vocabularies (word-to-number mappings). \n",
    "\n",
    "4) Finally, the last step. In the last step we load the data objects given by the ``TabularDataset`` and pass it to the ``BucketIterator`` class. This class will organize our examples into batches and shuffle them around (such that for each epoch the model observe the examples in a different order). When we are done with this we can let our function return the data iterators and vocabularies, then we are ready to train and test our model!\n",
    "\n",
    "Implement the dataloader. [**2 marks**]\n",
    "\n",
    "*hint: for TabularDataset and BucketIterator use the class function splits()*"
   ],
   "metadata": {
    "collapsed": false,
    "pycharm": {
     "name": "#%% md\n"
    }
   }
  },
  {
   "cell_type": "code",
   "execution_count": 7,
   "outputs": [],
   "source": [
    "class WordSenseDataset(Dataset):\n",
    "    def __init__(self, data, dataset=None):\n",
    "        self.max_length_context = -1\n",
    "        if dataset is None:\n",
    "            vocab = {PADDING_TOKEN, UNKNOWN_TOKEN}\n",
    "            senses = {UNKNOWN_LABEL}\n",
    "            for sample in data:\n",
    "                vocab.update(sample.context)\n",
    "                senses.add(sample.word_sense)\n",
    "                self.max_length_context = max(self.max_length_context, len(sample.context))\n",
    "\n",
    "            self.vocab = {word: index for index, word in enumerate(list(vocab))}\n",
    "            self.senses = {sense: index for index, sense in enumerate(list(senses))}\n",
    "        else:\n",
    "            self.vocab = dataset.vocab\n",
    "            self.senses = dataset.senses\n",
    "            self.max_length_context = dataset.max_length_context\n",
    "\n",
    "        self.samples = []\n",
    "        for sample in data:\n",
    "            padded_context = [self.get_encoded_word(word) for word in sample.context]\n",
    "            padded_context.extend([self.get_encoded_word(PADDING_TOKEN)] * (self.max_length_context - len(sample.context)))\n",
    "            self.samples.append((\n",
    "                sample.lemma,\n",
    "                self.get_encoded_label(sample.word_sense),\n",
    "                sample.index,\n",
    "                torch.tensor(padded_context)\n",
    "            ))\n",
    "\n",
    "    def __getitem__(self, idx):\n",
    "        Sample = namedtuple('Sample', 'lemma word_sense position context')\n",
    "\n",
    "        return Sample(*self.samples[idx])\n",
    "\n",
    "    def __len__(self):\n",
    "        return len(self.samples)\n",
    "\n",
    "    def get_encoded_word(self, word):\n",
    "        if word in self.vocab:\n",
    "            return self.vocab[word]\n",
    "        else:\n",
    "            return self.vocab[UNKNOWN_TOKEN]\n",
    "\n",
    "    def get_encoded_label(self, label):\n",
    "        if label in self.senses:\n",
    "            return self.senses[label]\n",
    "        else:\n",
    "            return self.senses[UNKNOWN_LABEL]\n",
    "\n",
    "    def get_vocab_size(self):\n",
    "        return len(self.vocab)"
   ],
   "metadata": {
    "collapsed": false,
    "pycharm": {
     "name": "#%%\n"
    }
   }
  },
  {
   "cell_type": "code",
   "execution_count": 8,
   "outputs": [],
   "source": [
    "# word_sense_dataset = WordSenseDataset(train)\n",
    "# print(word_sense_dataset[0])"
   ],
   "metadata": {
    "collapsed": false,
    "pycharm": {
     "name": "#%%\n"
    }
   }
  },
  {
   "cell_type": "code",
   "execution_count": 9,
   "outputs": [],
   "source": [
    "# dataloader = DataLoader(word_sense_dataset,\n",
    "#                         batch_size=batch_size,\n",
    "#                         shuffle=True)"
   ],
   "metadata": {
    "collapsed": false,
    "pycharm": {
     "name": "#%%\n"
    }
   }
  },
  {
   "cell_type": "code",
   "execution_count": 10,
   "outputs": [],
   "source": [
    "def dataloader(path, batch_size):\n",
    "    train, test = data_split(path)\n",
    "\n",
    "    train_dataset = WordSenseDataset(train)\n",
    "    test_dataset = WordSenseDataset(test, train_dataset)\n",
    "\n",
    "    train_dataloader = DataLoader(train_dataset,\n",
    "                                  batch_size=batch_size,\n",
    "                                  shuffle=True)\n",
    "    test_dataloader = DataLoader(test_dataset,\n",
    "                                 batch_size=batch_size,\n",
    "                                 shuffle=True)\n",
    "\n",
    "    return train_dataloader, test_dataloader\n"
   ],
   "metadata": {
    "collapsed": false,
    "pycharm": {
     "name": "#%%\n"
    }
   }
  },
  {
   "cell_type": "markdown",
   "source": [
    "# 2.1 Creating and running a Neural Network for WSD\n",
    "\n",
    "In this section we will create and run a neural network to predict word senses based on *contextualized representations*."
   ],
   "metadata": {
    "collapsed": false,
    "pycharm": {
     "name": "#%% md\n"
    }
   }
  },
  {
   "cell_type": "markdown",
   "source": [
    "### Model\n",
    "\n",
    "We will use a bidirectional Long-Short-Term Memory (LSTM) network to create a representation for the sentences and a Linear classifier to predict the sense of each word.\n",
    "\n",
    "When we initialize the model, we need a few things:\n",
    "\n",
    "    1) An embedding layer: a dictionary from which we can obtain word embeddings\n",
    "    2) A LSTM-module to obtain contextual representations\n",
    "    3) A classifier that compute scores for each word-sense given *some* input\n",
    "\n",
    "\n",
    "The general procedure is the following:\n",
    "\n",
    "    1) For each word in the sentence, obtain word embeddings\n",
    "    2) Run the embedded sentences through the RNN\n",
    "    3) Select the appropriate hidden state\n",
    "    4) Predict the word-sense \n",
    "\n",
    "**Suggestion for efficiency:**  *Use a low dimensionality (32) for word embeddings and the LSTM when developing and testing the code, then scale up when running the full training/tests*\n",
    "    \n",
    "Your tasks will be to create two different models (both follow the two outlines described above), described below:"
   ],
   "metadata": {
    "collapsed": false,
    "pycharm": {
     "name": "#%% md\n"
    }
   }
  },
  {
   "cell_type": "code",
   "execution_count": 11,
   "outputs": [],
   "source": [
    "hyperparameters = {\n",
    "    'embedding_dim': 64,\n",
    "    'out_dim': 64,\n",
    "    'epochs': 3,\n",
    "    'learning_rate': 0.001,\n",
    "    'batch_size': 32\n",
    "}"
   ],
   "metadata": {
    "collapsed": false,
    "pycharm": {
     "name": "#%%\n"
    }
   }
  },
  {
   "cell_type": "markdown",
   "source": [
    "In the first approach to WSD, you are to select the index of our target word (column 3 in the dataset) and predict the word sense. **[5 marks]**\n"
   ],
   "metadata": {
    "collapsed": false,
    "pycharm": {
     "name": "#%% md\n"
    }
   }
  },
  {
   "cell_type": "code",
   "execution_count": 12,
   "outputs": [],
   "source": [
    "class WSDModel_approach1(nn.Module):\n",
    "    def __init__(self, vocab_size, embedding_dim, out_dim, word_sense_size, padding_idx):\n",
    "        super(WSDModel_approach1, self).__init__()\n",
    "\n",
    "        self.embeddings = nn.Embedding(vocab_size, embedding_dim, padding_idx=padding_idx)\n",
    "        self.rnn = nn.LSTM(embedding_dim, out_dim, num_layers=1, bidirectional=True, batch_first=True)\n",
    "        self.classifier = nn.Linear(out_dim * 2, word_sense_size)\n",
    "\n",
    "    def forward(self, context_batch, position_batch):\n",
    "        embeddings = self.embeddings(context_batch)\n",
    "        output, _ = self.rnn(embeddings)\n",
    "        positioned_output = output[torch.arange(output.size(0)), position_batch]\n",
    "        predictions = self.classifier(positioned_output)\n",
    "\n",
    "        return predictions"
   ],
   "metadata": {
    "collapsed": false,
    "pycharm": {
     "name": "#%%\n"
    }
   }
  },
  {
   "cell_type": "markdown",
   "source": [
    "In the second approach to WSD, you are to predict the word sense based on the final hidden state given by the RNN. **[5 marks]**"
   ],
   "metadata": {
    "collapsed": false,
    "pycharm": {
     "name": "#%% md\n"
    }
   }
  },
  {
   "cell_type": "code",
   "execution_count": 13,
   "outputs": [],
   "source": [
    "class WSDModel_approach2(nn.Module):\n",
    "    def __init__(self, vocab_size, embedding_dim, out_dim, word_sense_size, padding_idx):\n",
    "        super(WSDModel_approach2, self).__init__()\n",
    "\n",
    "        self.embeddings = nn.Embedding(vocab_size, embedding_dim, padding_idx=padding_idx)\n",
    "        self.rnn = nn.LSTM(embedding_dim, out_dim, num_layers=1, bidirectional=True, batch_first=True)\n",
    "        self.classifier = nn.Linear(out_dim * 2, word_sense_size)\n",
    "\n",
    "    def forward(self, context_batch):\n",
    "        embeddings = self.embeddings(context_batch)\n",
    "        _, (h_n, _) = self.rnn(embeddings)\n",
    "        predictions = self.classifier(torch.cat((h_n[0,:,:], h_n[1,:,:]), dim=1))\n",
    "\n",
    "        return predictions"
   ],
   "metadata": {
    "collapsed": false,
    "pycharm": {
     "name": "#%%\n"
    }
   }
  },
  {
   "cell_type": "markdown",
   "source": [
    "### Training and testing the model\n",
    "\n",
    "Now we are ready to train and test our model. What we need now is a loss function, an optimizer, and our data. \n",
    "\n",
    "- First, create the loss function and the optimizer.\n",
    "- Next, we iterate over the number of epochs (i.e. how many times we let the model see our data). \n",
    "- For each epoch, iterate over the dataset (``train_iter``) to obtain batches. Use the batch as input to the model, and let the model output scores for the different word senses.\n",
    "- For each model output, calculate the loss (and print the loss) on the output and update the model parameters.\n",
    "- Reset the gradients and repeat.\n",
    "- After all epochs are done, test your trained model on the test set (``test_iter``) and calculate the total and per-word-form accuracy of your model.\n",
    "\n",
    "Implement the training and testing of the model **[4 marks]**\n",
    "\n",
    "**Suggestion for efficiency:** *when developing your model, try training and testing the model on one or two batches (for each epoch) of data to make sure everything works! It's very annoying if you train for N epochs to find out that something went wrong when testing the model, or to find that something goes wrong when moving from epoch 0 to epoch 1.*"
   ],
   "metadata": {
    "collapsed": false,
    "pycharm": {
     "name": "#%% md\n"
    }
   }
  },
  {
   "cell_type": "code",
   "execution_count": 14,
   "outputs": [],
   "source": [
    "train_dataloader, test_dataloader = dataloader('wsd_data.txt', hyperparameters['batch_size'])\n",
    "vocab = train_dataloader.dataset.vocab\n",
    "labels = train_dataloader.dataset.senses\n",
    "\n",
    "loss_function = CrossEntropyLoss()"
   ],
   "metadata": {
    "collapsed": false,
    "pycharm": {
     "name": "#%%\n"
    }
   }
  },
  {
   "cell_type": "code",
   "execution_count": 15,
   "outputs": [],
   "source": [
    "with open('dataloaders.dill', 'wb') as f:\n",
    "    dill.dump((train_dataloader, test_dataloader), f)"
   ],
   "metadata": {
    "collapsed": false,
    "pycharm": {
     "name": "#%%\n"
    }
   }
  },
  {
   "cell_type": "code",
   "execution_count": 16,
   "outputs": [],
   "source": [
    "wsd1_model = WSDModel_approach1(len(vocab),\n",
    "                                hyperparameters['embedding_dim'],\n",
    "                                hyperparameters['out_dim'],\n",
    "                                len(labels),\n",
    "                                vocab[PADDING_TOKEN])\n",
    "wsd1_model.to(device)\n",
    "\n",
    "wsd1_optimizer = optim.Adam(wsd1_model.parameters(), lr=hyperparameters['learning_rate'])"
   ],
   "metadata": {
    "collapsed": false,
    "pycharm": {
     "name": "#%%\n"
    }
   }
  },
  {
   "cell_type": "code",
   "execution_count": 17,
   "outputs": [
    {
     "name": "stdout",
     "output_type": "stream",
     "text": [
      "3 EPOCHS - 1901 BATCHES PER EPOCH\n",
      "epoch 0, batch 1901: 1.5693\n",
      "epoch 1, batch 1901: 0.9218\n",
      "epoch 2, batch 1901: 0.7617\n"
     ]
    }
   ],
   "source": [
    "print(\n",
    "    f'{hyperparameters[\"epochs\"]} EPOCHS - {math.floor(len(train_dataloader.dataset) / train_dataloader.batch_size)} BATCHES PER EPOCH')\n",
    "\n",
    "for epoch in range(hyperparameters['epochs']):\n",
    "    total_loss = 0\n",
    "    for i, batch in enumerate(train_dataloader):\n",
    "        batch_senses = batch.word_sense.to(device)\n",
    "        batch_contexts = batch.context.to(device)\n",
    "        batch_indices = batch.position.to(device)\n",
    "\n",
    "        output = wsd1_model(batch_contexts, batch_indices)\n",
    "\n",
    "        loss = loss_function(output.view(-1, len(labels)), batch_senses.view(-1))\n",
    "        total_loss += loss.item()\n",
    "\n",
    "        # print average loss for the epoch\n",
    "        sys.stdout.write(f'\\repoch {epoch}, batch {i}: {np.round(total_loss / (i + 1), 4)}')\n",
    "\n",
    "        # compute gradients\n",
    "        loss.backward()\n",
    "\n",
    "        # update parameters\n",
    "        wsd1_optimizer.step()\n",
    "\n",
    "        # reset gradients\n",
    "        wsd1_optimizer.zero_grad()\n",
    "    print()"
   ],
   "metadata": {
    "collapsed": false,
    "pycharm": {
     "name": "#%%\n"
    }
   }
  },
  {
   "cell_type": "code",
   "execution_count": 18,
   "outputs": [],
   "source": [
    "wsd1_gold_labels = defaultdict(list)\n",
    "wsd1_predicted_labels = defaultdict(list)\n",
    "\n",
    "for sample in test_dataloader:\n",
    "    context = sample.context.to(device)\n",
    "    position = sample.position.to(device)\n",
    "    predicted_label = wsd1_model(context, position).cpu().detach()\n",
    "    max_label = torch.max(predicted_label, dim=1)\n",
    "\n",
    "    for index, lemma in enumerate(sample.lemma):\n",
    "        wsd1_predicted_labels[lemma].append(int(max_label.indices[index]))\n",
    "        wsd1_gold_labels[lemma].append(int(sample.word_sense[index]))"
   ],
   "metadata": {
    "collapsed": false,
    "pycharm": {
     "name": "#%%\n"
    }
   }
  },
  {
   "cell_type": "code",
   "execution_count": 19,
   "outputs": [],
   "source": [
    "del context\n",
    "wsd1_model = wsd1_model.cpu()"
   ],
   "metadata": {
    "collapsed": false,
    "pycharm": {
     "name": "#%%\n"
    }
   }
  },
  {
   "cell_type": "code",
   "execution_count": 20,
   "outputs": [
    {
     "name": "stdout",
     "output_type": "stream",
     "text": [
      "0.6894148586456279\n"
     ]
    }
   ],
   "source": [
    "comb_wsd1_gold = [gold for gold_list in wsd1_gold_labels.values() for gold in gold_list]\n",
    "comb_wsd1_predicted = [predicted for predicted_list in wsd1_predicted_labels.values() for predicted in predicted_list]\n",
    "print(accuracy_score(comb_wsd1_gold, comb_wsd1_predicted))"
   ],
   "metadata": {
    "collapsed": false,
    "pycharm": {
     "name": "#%%\n"
    }
   }
  },
  {
   "cell_type": "code",
   "execution_count": 21,
   "outputs": [],
   "source": [
    "with open('wsd1.dill', 'wb') as f:\n",
    "    dill.dump(wsd1_model, f)"
   ],
   "metadata": {
    "collapsed": false,
    "pycharm": {
     "name": "#%%\n"
    }
   }
  },
  {
   "cell_type": "code",
   "execution_count": 22,
   "outputs": [
    {
     "name": "stdout",
     "output_type": "stream",
     "text": [
      "{'batch_size': 32,\n",
      " 'embedding_dim': 64,\n",
      " 'epochs': 3,\n",
      " 'learning_rate': 0.001,\n",
      " 'out_dim': 64}\n",
      "vocab_size: 71616\n",
      "label_size: 223\n",
      "len_context: 281\n"
     ]
    }
   ],
   "source": [
    "pprint(hyperparameters)\n",
    "print('vocab_size:', len(vocab))\n",
    "print('label_size:', len(labels))\n",
    "print('len_context:', len(train_dataloader.dataset[0].context))"
   ],
   "metadata": {
    "collapsed": false,
    "pycharm": {
     "name": "#%%\n"
    }
   }
  },
  {
   "cell_type": "code",
   "execution_count": 23,
   "outputs": [],
   "source": [
    "wsd2_model = WSDModel_approach2(len(vocab),\n",
    "                                hyperparameters['embedding_dim'],\n",
    "                                hyperparameters['out_dim'],\n",
    "                                len(labels),\n",
    "                                vocab[PADDING_TOKEN])\n",
    "wsd2_model.to(device)\n",
    "\n",
    "wsd2_optimizer = optim.Adam(wsd2_model.parameters(), lr=hyperparameters['learning_rate'])"
   ],
   "metadata": {
    "collapsed": false,
    "pycharm": {
     "name": "#%%\n"
    }
   }
  },
  {
   "cell_type": "code",
   "execution_count": 24,
   "outputs": [
    {
     "name": "stdout",
     "output_type": "stream",
     "text": [
      "3 EPOCHS - 1901 BATCHES PER EPOCH\n",
      "epoch 0, batch 1901: 4.9092\n",
      "epoch 1, batch 1901: 4.6958\n",
      "epoch 2, batch 1901: 4.3604\n"
     ]
    }
   ],
   "source": [
    "print(\n",
    "    f'{hyperparameters[\"epochs\"]} EPOCHS - {math.floor(len(train_dataloader.dataset) / train_dataloader.batch_size)} BATCHES PER EPOCH')\n",
    "\n",
    "for epoch in range(hyperparameters['epochs']):\n",
    "    total_loss = 0\n",
    "    for i, batch in enumerate(train_dataloader):\n",
    "        batch_senses = batch.word_sense.to(device)\n",
    "        batch_contexts = batch.context.to(device)\n",
    "\n",
    "        output = wsd2_model(batch_contexts)\n",
    "        loss = loss_function(output.view(-1, len(labels)), batch_senses.view(-1))\n",
    "        total_loss += loss.item()\n",
    "\n",
    "        # print average loss for the epoch\n",
    "        sys.stdout.write(f'\\repoch {epoch}, batch {i}: {np.round(total_loss / (i + 1), 4)}')\n",
    "\n",
    "        # compute gradients\n",
    "        loss.backward()\n",
    "\n",
    "        # update parameters\n",
    "        wsd2_optimizer.step()\n",
    "\n",
    "        # reset gradients\n",
    "        wsd2_optimizer.zero_grad()\n",
    "    print()"
   ],
   "metadata": {
    "collapsed": false,
    "pycharm": {
     "name": "#%%\n"
    }
   }
  },
  {
   "cell_type": "code",
   "execution_count": 25,
   "outputs": [],
   "source": [
    "wsd2_gold_labels = defaultdict(list)\n",
    "wsd2_predicted_labels = defaultdict(list)\n",
    "\n",
    "for sample in test_dataloader:\n",
    "    context = sample.context.to(device)\n",
    "    predicted_label = wsd2_model(context).cpu().detach()\n",
    "    max_label = torch.max(predicted_label, dim=1)\n",
    "\n",
    "    for index, lemma in enumerate(sample.lemma):\n",
    "        wsd2_predicted_labels[lemma].append(int(max_label.indices[index]))\n",
    "        wsd2_gold_labels[lemma].append(int(sample.word_sense[index]))"
   ],
   "metadata": {
    "collapsed": false,
    "pycharm": {
     "name": "#%%\n"
    }
   }
  },
  {
   "cell_type": "code",
   "execution_count": 26,
   "outputs": [
    {
     "name": "stdout",
     "output_type": "stream",
     "text": [
      "0.1715318869165023\n"
     ]
    }
   ],
   "source": [
    "comb_wsd2_gold = [gold for gold_list in wsd2_gold_labels.values() for gold in gold_list]\n",
    "comb_wsd2_predicted = [predicted for predicted_list in wsd2_predicted_labels.values() for predicted in predicted_list]\n",
    "print(accuracy_score(comb_wsd2_gold, comb_wsd2_predicted))"
   ],
   "metadata": {
    "collapsed": false,
    "pycharm": {
     "name": "#%%\n"
    }
   }
  },
  {
   "cell_type": "code",
   "execution_count": 27,
   "outputs": [],
   "source": [
    "del context\n",
    "wsd2_model = wsd2_model.cpu()"
   ],
   "metadata": {
    "collapsed": false,
    "pycharm": {
     "name": "#%%\n"
    }
   }
  },
  {
   "cell_type": "code",
   "execution_count": 28,
   "outputs": [],
   "source": [
    "with open('wsd2.dill', 'wb') as f:\n",
    "    dill.dump(wsd2_model, f)"
   ],
   "metadata": {
    "collapsed": false,
    "pycharm": {
     "name": "#%%\n"
    }
   }
  },
  {
   "cell_type": "code",
   "execution_count": 29,
   "outputs": [],
   "source": [
    "torch.save(wsd1_model.state_dict(), 'wsd1.pt')\n",
    "torch.save(wsd2_model.state_dict(), 'wsd2.pt')"
   ],
   "metadata": {
    "collapsed": false,
    "pycharm": {
     "name": "#%%\n"
    }
   }
  },
  {
   "cell_type": "code",
   "execution_count": 30,
   "outputs": [],
   "source": [
    "torch.cuda.empty_cache()"
   ],
   "metadata": {
    "collapsed": false,
    "pycharm": {
     "name": "#%%\n"
    }
   }
  },
  {
   "cell_type": "markdown",
   "source": [
    "# 2.2 Running a transformer for WSD"
   ],
   "metadata": {
    "collapsed": false,
    "pycharm": {
     "name": "#%% md\n"
    }
   }
  },
  {
   "cell_type": "markdown",
   "source": [
    "In this section of the lab you'll try out the transformer, specifically the BERT model. For this we'll use the huggingface library (https://huggingface.co/).\n",
    "\n",
    "You can find the documentation for the BERT model here (https://huggingface.co/transformers/model_doc/bert.html) and a general usage guide here (https://huggingface.co/transformers/quickstart.html).\n",
    "\n",
    "What we're going to do is *fine-tune* the BERT model, i.e. update the weights of a pre-trained model. That is, we have a model that is trained on language modeling, but now we apply it to word sense disambiguation with the word representations it learnt from language modeling.\n",
    "\n",
    "We'll use the same data splits for training and testing as before, but this time you'll not use a torchtext dataloader. Rather now you create an iterator that collects N sentences (where N is the batch size) then use the BertTokenizer to transform the sentence into integers. For your dataloader, remember to:\n",
    "* Shuffle the data in each batch\n",
    "* Make sure you get a new iterator for each *epoch*\n",
    "* Create a vocabulary of *sense-labels* so you can calculate accuracy \n",
    "\n",
    "We then pass this batch into the BERT model and train as before. The BERT model will encode the sentence, then we send this encoded sentence into a prediction layer (you can either the the sentence-representation from bert, or the ambiguous word) like before and collect sense predictions.\n",
    "\n",
    "About the hyperparameters and training:\n",
    "* For BERT, usually a lower learning rate works best, between 0.0001-0.000001.\n",
    "* BERT takes alot of resources, running it on CPU will take ages, utilize the GPUs :)\n",
    "* Since BERT takes alot of resources, use a small batch size (4-8)\n",
    "* Computing the BERT representation, make sure you pass the mask\n",
    "\n",
    "**[10 marks]**"
   ],
   "metadata": {
    "collapsed": false,
    "pycharm": {
     "name": "#%% md\n"
    }
   }
  },
  {
   "cell_type": "code",
   "execution_count": 31,
   "outputs": [],
   "source": [
    "bert_hyperparameters = {\n",
    "    'epochs': 3,\n",
    "    'learning_rate': 0.00001,\n",
    "    'batch_size': 8\n",
    "}"
   ],
   "metadata": {
    "collapsed": false,
    "pycharm": {
     "name": "#%%\n"
    }
   }
  },
  {
   "cell_type": "code",
   "execution_count": 32,
   "outputs": [],
   "source": [
    "def bert_data_split(path_to_dataset):\n",
    "    Sample = namedtuple('Sample', 'lemma, word_sense context')\n",
    "\n",
    "    samples = []\n",
    "    with open(path_to_dataset, 'r') as f:\n",
    "        for line in f:\n",
    "            word_sense, word_form, _, context = line.split('\\t')\n",
    "            lemma, _ = word_form.split('.')\n",
    "            samples.append(Sample(lemma, word_sense, context))\n",
    "\n",
    "    random.shuffle(samples)\n",
    "    split = math.floor(len(samples) * TRAINING_SPLIT)\n",
    "    return samples[:split], samples[split:]"
   ],
   "metadata": {
    "collapsed": false,
    "pycharm": {
     "name": "#%%\n"
    }
   }
  },
  {
   "cell_type": "code",
   "execution_count": 33,
   "outputs": [],
   "source": [
    "class BERTDataset(Dataset):\n",
    "    def __init__(self, data, bert_tokenizer, dataset=None):\n",
    "        if dataset is None:\n",
    "            senses = {UNKNOWN_LABEL}\n",
    "            for sample in data:\n",
    "                senses.add(sample.word_sense)\n",
    "            self.senses = {sense: index for index, sense in enumerate(list(senses))}\n",
    "        else:\n",
    "            self.senses = dataset.senses\n",
    "            \n",
    "        contexts = bert_tokenizer([sample.context for sample in data],\n",
    "                                  padding=True,\n",
    "                                  truncation=True,\n",
    "                                  return_tensors='pt')\n",
    "        self.samples = []\n",
    "        for index, sample in enumerate(data):\n",
    "            self.samples.append((\n",
    "                sample.lemma,\n",
    "                self.get_encoded_label(sample.word_sense),\n",
    "                {k: v[index] for k, v in contexts.items()}  \n",
    "            ))\n",
    "\n",
    "    def __getitem__(self, idx):\n",
    "        Sample = namedtuple('Sample', 'lemma, word_sense context')\n",
    "\n",
    "        return Sample(*self.samples[idx])\n",
    "\n",
    "    def __len__(self):\n",
    "        return len(self.samples)\n",
    "    \n",
    "    def get_encoded_label(self, label):\n",
    "        if label in self.senses:\n",
    "            return self.senses[label]\n",
    "        else:\n",
    "            return self.senses[UNKNOWN_LABEL]"
   ],
   "metadata": {
    "collapsed": false,
    "pycharm": {
     "name": "#%%\n"
    }
   }
  },
  {
   "cell_type": "code",
   "execution_count": 34,
   "outputs": [],
   "source": [
    "def BERT_dataloader(path, batch_size, bert_tokenizer):\n",
    "    train, test = bert_data_split(path)\n",
    "\n",
    "    train_dataset = BERTDataset(train, bert_tokenizer)\n",
    "    test_dataset = BERTDataset(test, bert_tokenizer, dataset=train_dataset)\n",
    "\n",
    "    train_dataloader = DataLoader(train_dataset,\n",
    "                                  batch_size=batch_size,\n",
    "                                  shuffle=True)\n",
    "    test_dataloader = DataLoader(test_dataset,\n",
    "                                 batch_size=batch_size,\n",
    "                                 shuffle=True)\n",
    "\n",
    "    return train_dataloader, test_dataloader"
   ],
   "metadata": {
    "collapsed": false,
    "pycharm": {
     "name": "#%%\n"
    }
   }
  },
  {
   "cell_type": "code",
   "execution_count": 35,
   "outputs": [],
   "source": [
    "class BERT_WSD(nn.Module):\n",
    "    def __init__(self, model, label_size):\n",
    "        super(BERT_WSD, self).__init__()\n",
    "        # your code goes here\n",
    "        self.bert = model\n",
    "        self.classifier = nn.Linear(768, label_size)\n",
    "\n",
    "    def forward(self, batch):\n",
    "        # your code goes here\n",
    "        bert = self.bert(**batch)\n",
    "        predictions = self.classifier(bert.pooler_output)\n",
    "\n",
    "        return predictions"
   ],
   "metadata": {
    "collapsed": false,
    "pycharm": {
     "name": "#%%\n"
    }
   }
  },
  {
   "cell_type": "code",
   "execution_count": 36,
   "outputs": [],
   "source": [
    "bert_tokenizer = BertTokenizer.from_pretrained(\"bert-base-uncased\")"
   ],
   "metadata": {
    "collapsed": false,
    "pycharm": {
     "name": "#%%\n"
    }
   }
  },
  {
   "cell_type": "code",
   "execution_count": 37,
   "outputs": [],
   "source": [
    "bert_train_dataloader, bert_test_dataloader = BERT_dataloader('wsd_data.txt', bert_hyperparameters['batch_size'], bert_tokenizer)\n",
    "labels = bert_train_dataloader.dataset.senses"
   ],
   "metadata": {
    "collapsed": false,
    "pycharm": {
     "name": "#%%\n"
    }
   }
  },
  {
   "cell_type": "code",
   "execution_count": 38,
   "outputs": [
    {
     "name": "stderr",
     "output_type": "stream",
     "text": [
      "Some weights of the model checkpoint at bert-base-uncased were not used when initializing BertModel: ['cls.seq_relationship.weight', 'cls.predictions.decoder.weight', 'cls.predictions.transform.dense.weight', 'cls.seq_relationship.bias', 'cls.predictions.transform.LayerNorm.bias', 'cls.predictions.transform.LayerNorm.weight', 'cls.predictions.transform.dense.bias', 'cls.predictions.bias']\n",
      "- This IS expected if you are initializing BertModel from the checkpoint of a model trained on another task or with another architecture (e.g. initializing a BertForSequenceClassification model from a BertForPreTraining model).\n",
      "- This IS NOT expected if you are initializing BertModel from the checkpoint of a model that you expect to be exactly identical (initializing a BertForSequenceClassification model from a BertForSequenceClassification model).\n"
     ]
    }
   ],
   "source": [
    "loss_function = CrossEntropyLoss()\n",
    "\n",
    "bert_model = BERT_WSD(BertModel.from_pretrained(\"bert-base-uncased\"), len(labels))\n",
    "bert_model.to(device)\n",
    "optimizer = optim.Adam(bert_model.parameters(), lr=bert_hyperparameters['learning_rate'])"
   ],
   "metadata": {
    "collapsed": false,
    "pycharm": {
     "name": "#%%\n"
    }
   }
  },
  {
   "cell_type": "code",
   "execution_count": 39,
   "outputs": [
    {
     "name": "stdout",
     "output_type": "stream",
     "text": [
      "3 EPOCHS - 7604 BATCHES PER EPOCH\n",
      "epoch 0, batch 7604: 2.5292\n",
      "epoch 1, batch 7604: 0.9449\n",
      "epoch 2, batch 7604: 0.6268\n"
     ]
    }
   ],
   "source": [
    "print(\n",
    "    f'{bert_hyperparameters[\"epochs\"]} EPOCHS - {math.floor(len(bert_train_dataloader.dataset) / bert_train_dataloader.batch_size)} BATCHES PER EPOCH')\n",
    "for epoch in range(bert_hyperparameters['epochs']):\n",
    "    total_loss = 0\n",
    "    for i, batch in enumerate(bert_train_dataloader):\n",
    "        context_batch = {k: v.to(device) for k, v in batch.context.items()}\n",
    "        \n",
    "        labels = batch.word_sense.to(device)\n",
    "\n",
    "        output = bert_model(context_batch)\n",
    "        \n",
    "        loss = loss_function(output, labels)\n",
    "        total_loss += loss.item()\n",
    "\n",
    "        # print average loss for the epoch\n",
    "        sys.stdout.write(f'\\repoch {epoch}, batch {i}: {np.round(total_loss / (i + 1), 4)}')\n",
    "\n",
    "        # compute gradients\n",
    "        loss.backward()\n",
    "\n",
    "        # update parameters\n",
    "        optimizer.step()\n",
    "\n",
    "        # reset gradients\n",
    "        optimizer.zero_grad()\n",
    "    print()\n",
    "# test model after all epochs are completed"
   ],
   "metadata": {
    "collapsed": false,
    "pycharm": {
     "name": "#%%\n"
    }
   }
  },
  {
   "cell_type": "code",
   "execution_count": 43,
   "outputs": [],
   "source": [
    "bert_gold_labels = defaultdict(list)\n",
    "bert_predicted_labels = defaultdict(list)\n",
    "\n",
    "for sample in bert_test_dataloader:\n",
    "    context = {k: v.to(device) for k, v in sample.context.items()}\n",
    "    predicted_label = bert_model(context).cpu().detach()\n",
    "    max_label = torch.max(predicted_label, dim=1)\n",
    "\n",
    "    for index, lemma in enumerate(sample.lemma):\n",
    "        bert_predicted_labels[lemma].append(int(max_label.indices[index]))\n",
    "        bert_gold_labels[lemma].append(int(sample.word_sense[index]))"
   ],
   "metadata": {
    "collapsed": false,
    "pycharm": {
     "name": "#%%\n"
    }
   }
  },
  {
   "cell_type": "code",
   "execution_count": 44,
   "outputs": [
    {
     "name": "stdout",
     "output_type": "stream",
     "text": [
      "0.7517422748191979\n"
     ]
    }
   ],
   "source": [
    "comb_bert_gold = [gold for gold_list in bert_gold_labels.values() for gold in gold_list]\n",
    "comb_bert_predicted = [predicted for predicted_list in bert_predicted_labels.values() for predicted in predicted_list]\n",
    "print(accuracy_score(comb_bert_gold, comb_bert_predicted))"
   ],
   "metadata": {
    "collapsed": false,
    "pycharm": {
     "name": "#%%\n"
    }
   }
  },
  {
   "cell_type": "code",
   "execution_count": 45,
   "outputs": [],
   "source": [
    "with open('bert.dill', 'wb') as f:\n",
    "    dill.dump(bert_model, f)"
   ],
   "metadata": {
    "collapsed": false,
    "pycharm": {
     "name": "#%%\n"
    }
   }
  },
  {
   "cell_type": "code",
   "execution_count": 46,
   "outputs": [],
   "source": [
    "torch.save(bert_model.state_dict(), 'bert.pt')"
   ],
   "metadata": {
    "collapsed": false,
    "pycharm": {
     "name": "#%%\n"
    }
   }
  },
  {
   "cell_type": "markdown",
   "metadata": {
    "pycharm": {
     "name": "#%% md\n"
    }
   },
   "source": [
    "# 3. Evaluation"
   ]
  },
  {
   "cell_type": "markdown",
   "metadata": {
    "pycharm": {
     "name": "#%% md\n"
    }
   },
   "source": [
    "Explain the difference between the first and second approach. What kind of representations are the different approaches using to predict word-senses? **[4 marks]**"
   ]
  },
  {
   "cell_type": "markdown",
   "source": [
    "> The first approach uses the output at the timestep of the target word. This represents the target word in this specific context and hopefully after training in a more generic context.\n",
    ">\n",
    "> The second approach is using the final hidden state of the BiLSTM, which represents the whole sentence, in which the word is occurring. As expected this results in a worse accuracy, since it focuses not only on the target word, but encodes also the rest of context. The performance is even worse than the baseline.\n",
    "> An additional reason for this performance could also be that we classify senses for multiple different words. If we had only one word with several word senses, the representation of a sentence may even be a helpful representation to distinguish between the senses."
   ],
   "metadata": {
    "collapsed": false,
    "pycharm": {
     "name": "#%% md\n"
    }
   }
  },
  {
   "cell_type": "markdown",
   "metadata": {
    "pycharm": {
     "name": "#%% md\n"
    }
   },
   "source": [
    "Evaluate your model with per-word-form *accuracy* and comment on the results you get, how does the model perform in comparison to the baseline, and how do the models compare to each other? \n",
    "\n",
    "Expand on the evaluation by sorting the word-forms by the number of senses they have. Are word-forms with fewer senses easier to predict? Give a short explanation of the results you get based on the number of senses per word.\n",
    "\n",
    "**[6 marks]**"
   ]
  },
  {
   "cell_type": "code",
   "execution_count": 64,
   "outputs": [],
   "source": [
    "lemma_senses = defaultdict(set)\n",
    "for sample in train_dataloader:\n",
    "    for index, lemma in enumerate(sample.lemma):\n",
    "        lemma_senses[lemma].add(int(sample.word_sense[index]))\n",
    "\n",
    "def number_of_senses(lemma):\n",
    "    return len(lemma_senses[lemma]) if lemma in lemma_senses else 0"
   ],
   "metadata": {
    "collapsed": false,
    "pycharm": {
     "name": "#%%\n"
    }
   }
  },
  {
   "cell_type": "code",
   "execution_count": 65,
   "outputs": [],
   "source": [
    "baseline_gold_labels = defaultdict(list)\n",
    "baseline_predicted_labels = defaultdict(list)\n",
    "\n",
    "for sample in test_dataloader:\n",
    "    for index, lemma in enumerate(sample.lemma):\n",
    "        predicted_label = baseline.get(lemma, UNKNOWN_LABEL)\n",
    "\n",
    "        encoded_predicted_label = test_dataloader.dataset.get_encoded_label(predicted_label)\n",
    "        baseline_gold_labels[lemma].append(int(sample.word_sense[index]))\n",
    "        baseline_predicted_labels[lemma].append(int(encoded_predicted_label))"
   ],
   "metadata": {
    "collapsed": false,
    "pycharm": {
     "name": "#%%\n"
    }
   }
  },
  {
   "cell_type": "code",
   "execution_count": 66,
   "outputs": [
    {
     "name": "stdout",
     "output_type": "stream",
     "text": [
      "0.3213675213675214\n"
     ]
    }
   ],
   "source": [
    "comb_baseline_gold = [gold for gold_list in baseline_gold_labels.values() for gold in gold_list]\n",
    "comb_baseline_predicted = [predicted for predicted_list in baseline_predicted_labels.values() for predicted in predicted_list]\n",
    "print(accuracy_score(comb_baseline_predicted, comb_baseline_gold))"
   ],
   "metadata": {
    "collapsed": false,
    "pycharm": {
     "name": "#%%\n"
    }
   }
  },
  {
   "cell_type": "code",
   "execution_count": 67,
   "outputs": [
    {
     "name": "stdout",
     "output_type": "stream",
     "text": [
      "Baseline per-word-accuracy:\n",
      "<keep>[11]: 0.4086\n",
      "<line>[11]: 0.8453\n",
      "<hold>[11]: 0.1481\n",
      "<follow>[11]: 0.1607\n",
      "<see>[11]: 0.6214\n",
      "<build>[10]: 0.2297\n",
      "<find>[10]: 0.2597\n",
      "<life>[9]: 0.2447\n",
      "<serve>[9]: 0.1385\n",
      "<lead>[8]: 0.1864\n",
      "<regular>[8]: 0.2161\n",
      "<point>[8]: 0.365\n",
      "<bring>[8]: 0.2191\n",
      "<case>[8]: 0.1946\n",
      "<force>[8]: 0.1491\n",
      "<extend>[7]: 0.1479\n",
      "<security>[7]: 0.2165\n",
      "<place>[7]: 0.2766\n",
      "<national>[6]: 0.2383\n",
      "<position>[6]: 0.2179\n",
      "<physical>[6]: 0.2095\n",
      "<order>[5]: 0.2162\n",
      "<positive>[5]: 0.3648\n",
      "<time>[5]: 0.2715\n",
      "<critical>[5]: 0.2654\n",
      "<professional>[5]: 0.2075\n",
      "<active>[5]: 0.3118\n",
      "<bad>[4]: 0.5873\n",
      "<common>[4]: 0.2375\n",
      "<major>[4]: 0.3179\n"
     ]
    }
   ],
   "source": [
    "print('Baseline per-word-accuracy:')\n",
    "for lemma, gold in sorted(baseline_gold_labels.items(), key=lambda x: number_of_senses(x[0]), reverse=True):\n",
    "    print(f'<{lemma}>[{number_of_senses(lemma)}]: {np.round(accuracy_score(gold, baseline_predicted_labels[lemma]), 4)}')"
   ],
   "metadata": {
    "collapsed": false,
    "pycharm": {
     "name": "#%%\n"
    }
   }
  },
  {
   "cell_type": "code",
   "execution_count": 68,
   "outputs": [
    {
     "name": "stdout",
     "output_type": "stream",
     "text": [
      "WSD1 per-word-accuracy:\n",
      "<line>[11]: 0.955\n",
      "<see>[11]: 0.7838\n",
      "<hold>[11]: 0.5717\n",
      "<keep>[11]: 0.7371\n",
      "<follow>[11]: 0.6213\n",
      "<build>[10]: 0.4178\n",
      "<find>[10]: 0.6429\n",
      "<serve>[9]: 0.6457\n",
      "<life>[9]: 0.6965\n",
      "<force>[8]: 0.8309\n",
      "<lead>[8]: 0.5148\n",
      "<case>[8]: 0.5397\n",
      "<bring>[8]: 0.5294\n",
      "<point>[8]: 0.7725\n",
      "<regular>[8]: 0.5804\n",
      "<place>[7]: 0.7234\n",
      "<extend>[7]: 0.572\n",
      "<security>[7]: 0.8371\n",
      "<national>[6]: 0.743\n",
      "<physical>[6]: 0.6764\n",
      "<position>[6]: 0.5534\n",
      "<positive>[5]: 0.7039\n",
      "<time>[5]: 0.703\n",
      "<order>[5]: 0.7518\n",
      "<active>[5]: 0.7529\n",
      "<professional>[5]: 0.7459\n",
      "<critical>[5]: 0.6828\n",
      "<common>[4]: 0.5601\n",
      "<bad>[4]: 0.7711\n",
      "<major>[4]: 0.5762\n"
     ]
    }
   ],
   "source": [
    "print('WSD1 per-word-accuracy:')\n",
    "for lemma, gold in sorted(wsd1_gold_labels.items(), key=lambda x: number_of_senses(x[0]), reverse=True):\n",
    "    print(f'<{lemma}>[{number_of_senses(lemma)}]: {np.round(accuracy_score(gold, wsd1_predicted_labels[lemma]), 4)}')"
   ],
   "metadata": {
    "collapsed": false,
    "pycharm": {
     "name": "#%%\n"
    }
   }
  },
  {
   "cell_type": "code",
   "execution_count": 69,
   "outputs": [
    {
     "name": "stdout",
     "output_type": "stream",
     "text": [
      "WSD2 per-word-accuracy:\n",
      "<line>[11]: 0.8372\n",
      "<keep>[11]: 0.4733\n",
      "<hold>[11]: 0.0032\n",
      "<see>[11]: 0.6131\n",
      "<follow>[11]: 0.0464\n",
      "<find>[10]: 0.0498\n",
      "<build>[10]: 0.0079\n",
      "<serve>[9]: 0.0064\n",
      "<life>[9]: 0.0635\n",
      "<case>[8]: 0.0084\n",
      "<point>[8]: 0.0275\n",
      "<regular>[8]: 0.0276\n",
      "<lead>[8]: 0.0021\n",
      "<bring>[8]: 0.0183\n",
      "<force>[8]: 0.0073\n",
      "<extend>[7]: 0.0651\n",
      "<place>[7]: 0.125\n",
      "<security>[7]: 0.0022\n",
      "<position>[6]: 0.0107\n",
      "<national>[6]: 0.0\n",
      "<physical>[6]: 0.0371\n",
      "<active>[5]: 0.019\n",
      "<order>[5]: 0.14\n",
      "<time>[5]: 0.0394\n",
      "<critical>[5]: 0.0\n",
      "<positive>[5]: 0.0\n",
      "<professional>[5]: 0.0396\n",
      "<major>[4]: 0.0033\n",
      "<bad>[4]: 0.1325\n",
      "<common>[4]: 0.0059\n"
     ]
    }
   ],
   "source": [
    "print('WSD2 per-word-accuracy:')\n",
    "for lemma, gold in sorted(wsd2_gold_labels.items(), key=lambda x: number_of_senses(x[0]), reverse=True):\n",
    "    print(f'<{lemma}>[{number_of_senses(lemma)}]: {np.round(accuracy_score(gold, wsd2_predicted_labels[lemma]), 4)}')"
   ],
   "metadata": {
    "collapsed": false,
    "pycharm": {
     "name": "#%%\n"
    }
   }
  },
  {
   "cell_type": "code",
   "execution_count": 70,
   "outputs": [
    {
     "name": "stdout",
     "output_type": "stream",
     "text": [
      "BERT per-word-accuracy:\n",
      "<keep>[11]: 0.8302\n",
      "<line>[11]: 0.9736\n",
      "<see>[11]: 0.8605\n",
      "<hold>[11]: 0.6937\n",
      "<follow>[11]: 0.6697\n",
      "<build>[10]: 0.4776\n",
      "<find>[10]: 0.6907\n",
      "<serve>[9]: 0.7488\n",
      "<life>[9]: 0.8138\n",
      "<force>[8]: 0.8281\n",
      "<bring>[8]: 0.5859\n",
      "<point>[8]: 0.8394\n",
      "<regular>[8]: 0.6823\n",
      "<lead>[8]: 0.6286\n",
      "<case>[8]: 0.5761\n",
      "<place>[7]: 0.7366\n",
      "<security>[7]: 0.7869\n",
      "<extend>[7]: 0.6728\n",
      "<national>[6]: 0.7306\n",
      "<physical>[6]: 0.7717\n",
      "<position>[6]: 0.6851\n",
      "<professional>[5]: 0.7568\n",
      "<time>[5]: 0.712\n",
      "<order>[5]: 0.829\n",
      "<positive>[5]: 0.7901\n",
      "<active>[5]: 0.8057\n",
      "<critical>[5]: 0.7791\n",
      "<common>[4]: 0.6605\n",
      "<major>[4]: 0.6546\n",
      "<bad>[4]: 0.8145\n"
     ]
    }
   ],
   "source": [
    "print('BERT per-word-accuracy:')\n",
    "for lemma, gold in sorted(bert_gold_labels.items(), key=lambda x: number_of_senses(x[0]), reverse=True):\n",
    "    print(f'<{lemma}>[{number_of_senses(lemma)}]: {np.round(accuracy_score(gold, bert_predicted_labels[lemma]), 4)}')"
   ],
   "metadata": {
    "collapsed": false,
    "pycharm": {
     "name": "#%%\n"
    }
   }
  },
  {
   "cell_type": "markdown",
   "source": [
    "> | Model    | Accuracy |\n",
    "> |----------|----------|\n",
    "> | Baseline | 32,14%   |\n",
    "> |  WSD1    | 68,94%   |\n",
    "> |  WSD2    | 17,15%   |\n",
    "> |  BERT    | 75,17%   |\n",
    ">\n",
    "> The **BERT** model performs best with a margin of 7%. Still, the BiLSTM based on the target word (**WSD1**) has a very high accuracy, compared to the baseline. The BiLSTM based on the sentence representation (**WSD2**) has a very low accuracy and is even surpassed by the baseline.\n",
    "> Looking at the per-word-accuracy, some interesting points can be seen. First, the words' performance is similar over all models. E.g. the word *build* has a low accuracy in all the models, while for example the word *line* performs very well everywhere. Still, the exact accuracy can differ a lot: Almost every second sense of *build* can be predicted correctly by **BERT**, while the **WSD2** can't predict it at all.\n",
    "> Secondly, it is hard to find a pattern, why some words perform better than others. For **BERT** and the **WSD1**, words with many words senses can have a high accuracy as well as words with few words senses (*line* vs. *bad*). The only model, where the number of senses seems to have an influence is the **WSD2**. Here, all words, with a higher accuracy than 50% have 11 different senses.\n"
   ],
   "metadata": {
    "collapsed": false,
    "pycharm": {
     "name": "#%% md\n"
    }
   }
  },
  {
   "cell_type": "markdown",
   "metadata": {
    "pycharm": {
     "name": "#%% md\n"
    }
   },
   "source": [
    "How does the LSTMs perform in comparison to BERT? What's the difference between representations obtained by the LSTMs and BERT? **[2 marks]**"
   ]
  },
  {
   "cell_type": "markdown",
   "source": [
    "> As discussed before, the **WSD1** and **BERT** perform quite well, with **BERT** having a lead in the accuracy of 7%.\n",
    "> **BERT** uses self attention, to get the meaning of specific words in a context. Thus, it can learn very precisely, which word in the context exactly has an influence on the target word. This is even abstracted over multiple layers.\n",
    "> The **BiLSTM** on the other hand can only learn, how much the whole sequence before (and after) influences the target word, but not exactly which words. This means, that it can't be as precise as **BERT** and also looses information over longer sequences."
   ],
   "metadata": {
    "collapsed": false,
    "pycharm": {
     "name": "#%% md\n"
    }
   }
  },
  {
   "cell_type": "markdown",
   "metadata": {
    "pycharm": {
     "name": "#%% md\n"
    }
   },
   "source": [
    "What could we do to improve our LSTM word sense disambiguation models and our BERT model? **[4 marks]**"
   ]
  },
  {
   "cell_type": "markdown",
   "source": [
    "> In general, a bigger dataset would help to increase the accuracy. During our tests, we have seen that increasing the number from 20.000 sentences to the complete 76.000 sentences, improved the models very much.\n",
    "> Additionally, we could increase the number of epochs. To avoid overfitting to the training data, we could add dropout to the existing layers (e.g. the pretrained **BERT**) or add another dropout layer.\n",
    "> At the moment, during the training phase, the whole **BERT** model is trained. We could try to change this, and keep **BERT** fixed or only train some layers of the model.\n",
    "> For the LSTM, an option could be, to add more layers to add abstraction and maybe get a better perspective on the semantic relations in the context."
   ],
   "metadata": {
    "collapsed": false,
    "pycharm": {
     "name": "#%% md\n"
    }
   }
  },
  {
   "cell_type": "markdown",
   "metadata": {
    "pycharm": {
     "name": "#%% md\n"
    }
   },
   "source": [
    "# Readings:\n",
    "\n",
    "[1] Kågebäck, M., & Salomonsson, H. (2016). Word Sense Disambiguation using a Bidirectional LSTM. arXiv preprint arXiv:1606.03568.\n",
    "\n",
    "[2] https://cl.lingfil.uu.se/~nivre/master/NLP-LexSem.pdf"
   ]
  }
 ],
 "metadata": {
  "kernelspec": {
   "display_name": "Python 3 (ipykernel)",
   "language": "python",
   "name": "python3"
  },
  "language_info": {
   "codemirror_mode": {
    "name": "ipython",
    "version": 3
   },
   "file_extension": ".py",
   "mimetype": "text/x-python",
   "name": "python",
   "nbconvert_exporter": "python",
   "pygments_lexer": "ipython3",
   "version": "3.9.10"
  }
 },
 "nbformat": 4,
 "nbformat_minor": 2
}