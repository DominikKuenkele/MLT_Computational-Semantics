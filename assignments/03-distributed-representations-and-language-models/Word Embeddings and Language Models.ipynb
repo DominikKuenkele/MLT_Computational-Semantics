{
 "cells": [
  {
   "cell_type": "markdown",
   "metadata": {
    "pycharm": {
     "name": "#%% md\n"
    }
   },
   "source": [
    "# Lab 3: Word Embeddings and Language Modelling\n",
    "\n",
    "Adam Ek"
   ]
  },
  {
   "cell_type": "markdown",
   "metadata": {
    "pycharm": {
     "name": "#%% md\n"
    }
   },
   "source": [
    "In this lab we'll explore constructing *static* word embeddings (i.e. word2vec) and building language models. We'll also evaluate these systems on intermediate tasks, namely word similarity and identifying \"good\" and \"bad\" sentences.\n",
    "\n",
    "* For this we'll use pytorch. Some basic operations that will be useful can be found here: https://jhui.github.io/2018/02/09/PyTorch-Basic-operations\n",
    "* In general: we are not interested in getting state-of-the-art performance :) focus on the implementation and not results of your model. For this reason, you can use a subset of the dataset: the first 5000-10 000 sentences or so, on linux/mac: ```head -n 10000 inputfile > outputfile```. \n",
    "* If possible, use the MLTGpu, it will make everything faster :)"
   ]
  },
  {
   "cell_type": "code",
   "execution_count": 1,
   "metadata": {
    "pycharm": {
     "name": "#%%\n"
    }
   },
   "outputs": [
    {
     "data": {
      "text/plain": [
       "True"
      ]
     },
     "execution_count": 1,
     "metadata": {},
     "output_type": "execute_result"
    }
   ],
   "source": [
    "import torch\n",
    "import torch.nn as nn\n",
    "import torch.nn.functional as F\n",
    "import numpy as np\n",
    "\n",
    "# for gpu, replace \"cpu\" with \"cuda:n\" where n is the index of the GPU\n",
    "device = torch.device('cuda:0')\n",
    "torch.cuda.is_available()"
   ]
  },
  {
   "cell_type": "markdown",
   "metadata": {
    "pycharm": {
     "name": "#%% md\n"
    }
   },
   "source": [
    "# Word2Vec embeddings\n",
    "\n",
    "In this first part we'll construct a word2vec model which will give us *static* word embeddings (that is, they are fixed after training).\n",
    "\n",
    "After we've trained our model we will evaluate the embeddings obtained on a word similarity task."
   ]
  },
  {
   "cell_type": "markdown",
   "metadata": {
    "pycharm": {
     "name": "#%% md\n"
    }
   },
   "source": [
    "## Formatting data\n"
   ]
  },
  {
   "cell_type": "markdown",
   "metadata": {
    "pycharm": {
     "name": "#%% md\n"
    }
   },
   "source": [
    "First we need to load some data, you can download the file on Canvas under files/assignments/03-lab-data/wiki-corpus.50000.txt. The file contains 50 000 sentences randomly selected from the complete wikipedia. Each line in the file contains one sentence. The sentences are whitespace tokenized.\n",
    "\n",
    "Your first task is to create a dataset suitable for word2vec. That is, we define some ```window_size``` then iterate over all sentences in the dataset, putting the center word in one field and the context words in another (separate the fields with ```tab```).\n",
    "\n",
    "For example, the sentece \"this is a lab\" with ```window size = 4``` will be formatted as:\n",
    "```\n",
    "center, context\n",
    "---------------------\n",
    "this    is a\n",
    "is      this a lab\n",
    "a       this is lab\n",
    "lab     is a\n",
    "```\n",
    "\n",
    "this will be our training examples when training the word2vec model.\n",
    "\n",
    "[3 marks]"
   ]
  },
  {
   "cell_type": "code",
   "execution_count": 2,
   "metadata": {
    "pycharm": {
     "name": "#%%\n"
    }
   },
   "outputs": [],
   "source": [
    "import math\n",
    "\n",
    "data_path = 'data/'\n",
    "WINDOW_SIZE = 4\n",
    "\n",
    "\n",
    "def corpus_reader(data_path):\n",
    "    before = math.floor(WINDOW_SIZE / 2)\n",
    "    after = WINDOW_SIZE - before\n",
    "\n",
    "    samples = []\n",
    "    with open(data_path, encoding='UTF-8') as f:\n",
    "        for line in f:\n",
    "            tokenized = [word.lower() for word in line.split(' ')]\n",
    "            for index, word in enumerate(tokenized):\n",
    "                context = []\n",
    "                for i in range(index - before, index):\n",
    "                    if i >= 0:\n",
    "                        context.append(tokenized[i])\n",
    "                for i in range(index + 1, index + after + 1):\n",
    "                    if i < len(tokenized):\n",
    "                        context.append(tokenized[i])\n",
    "                samples.append((word, context))\n",
    "    return samples"
   ]
  },
  {
   "cell_type": "code",
   "execution_count": 3,
   "metadata": {
    "pycharm": {
     "name": "#%%\n"
    }
   },
   "outputs": [
    {
     "name": "stdout",
     "output_type": "stream",
     "text": [
      "[('anarchist', ['historian', 'george']), ('historian', ['anarchist', 'george', 'woodcock']), ('george', ['anarchist', 'historian', 'woodcock', 'reports']), ('woodcock', ['historian', 'george', 'reports', 'that']), ('reports', ['george', 'woodcock', 'that', '\"']), ('that', ['woodcock', 'reports', '\"', 'the']), ('\"', ['reports', 'that', 'the', 'annual']), ('the', ['that', '\"', 'annual', 'congress']), ('annual', ['\"', 'the', 'congress', 'of']), ('congress', ['the', 'annual', 'of', 'the']), ('of', ['annual', 'congress', 'the', 'international']), ('the', ['congress', 'of', 'international', 'had']), ('international', ['of', 'the', 'had', 'not']), ('had', ['the', 'international', 'not', 'taken']), ('not', ['international', 'had', 'taken', 'place']), ('taken', ['had', 'not', 'place', 'in']), ('place', ['not', 'taken', 'in', '1870']), ('in', ['taken', 'place', '1870', 'owing']), ('1870', ['place', 'in', 'owing', 'to']), ('owing', ['in', '1870', 'to', 'the']), ('to', ['1870', 'owing', 'the', 'outbreak']), ('the', ['owing', 'to', 'outbreak', 'of']), ('outbreak', ['to', 'the', 'of', 'the']), ('of', ['the', 'outbreak', 'the', 'paris']), ('the', ['outbreak', 'of', 'paris', 'commune']), ('paris', ['of', 'the', 'commune', ',']), ('commune', ['the', 'paris', ',', 'and']), (',', ['paris', 'commune', 'and', 'in']), ('and', ['commune', ',', 'in', '1871']), ('in', [',', 'and', '1871', 'the']), ('1871', ['and', 'in', 'the', 'general']), ('the', ['in', '1871', 'general', 'council']), ('general', ['1871', 'the', 'council', 'called']), ('council', ['the', 'general', 'called', 'only']), ('called', ['general', 'council', 'only', 'a']), ('only', ['council', 'called', 'a', 'special']), ('a', ['called', 'only', 'special', 'conference']), ('special', ['only', 'a', 'conference', 'in']), ('conference', ['a', 'special', 'in', 'london']), ('in', ['special', 'conference', 'london', '.\\n']), ('london', ['conference', 'in', '.\\n']), ('.\\n', ['in', 'london']), ('a', ['bomb', 'was']), ('bomb', ['a', 'was', 'thrown']), ('was', ['a', 'bomb', 'thrown', 'by']), ('thrown', ['bomb', 'was', 'by', 'an']), ('by', ['was', 'thrown', 'an', 'unknown']), ('an', ['thrown', 'by', 'unknown', 'party']), ('unknown', ['by', 'an', 'party', 'near']), ('party', ['an', 'unknown', 'near', 'the']), ('near', ['unknown', 'party', 'the', 'conclusion']), ('the', ['party', 'near', 'conclusion', 'of']), ('conclusion', ['near', 'the', 'of', 'the']), ('of', ['the', 'conclusion', 'the', 'rally']), ('the', ['conclusion', 'of', 'rally', ',']), ('rally', ['of', 'the', ',', 'killing']), (',', ['the', 'rally', 'killing', 'an']), ('killing', ['rally', ',', 'an', 'officer']), ('an', [',', 'killing', 'officer', '.\\n']), ('officer', ['killing', 'an', '.\\n']), ('.\\n', ['an', 'officer']), ('in', ['the', 'ensuing']), ('the', ['in', 'ensuing', 'panic']), ('ensuing', ['in', 'the', 'panic', ',']), ('panic', ['the', 'ensuing', ',', 'police']), (',', ['ensuing', 'panic', 'police', 'opened']), ('police', ['panic', ',', 'opened', 'fire']), ('opened', [',', 'police', 'fire', 'on']), ('fire', ['police', 'opened', 'on', 'the']), ('on', ['opened', 'fire', 'the', 'crowd']), ('the', ['fire', 'on', 'crowd', 'and']), ('crowd', ['on', 'the', 'and', 'each']), ('and', ['the', 'crowd', 'each', 'other']), ('each', ['crowd', 'and', 'other', '.\\n']), ('other', ['and', 'each', '.\\n']), ('.\\n', ['each', 'other']), ('josiah', ['warren', 'is']), ('warren', ['josiah', 'is', 'widely']), ('is', ['josiah', 'warren', 'widely', 'regarded']), ('widely', ['warren', 'is', 'regarded', 'as']), ('regarded', ['is', 'widely', 'as', 'the']), ('as', ['widely', 'regarded', 'the', 'first']), ('the', ['regarded', 'as', 'first', 'american']), ('first', ['as', 'the', 'american', 'anarchist']), ('american', ['the', 'first', 'anarchist', ',']), ('anarchist', ['first', 'american', ',', 'and']), (',', ['american', 'anarchist', 'and', 'the']), ('and', ['anarchist', ',', 'the', 'four-page']), ('the', [',', 'and', 'four-page', 'weekly']), ('four-page', ['and', 'the', 'weekly', 'paper']), ('weekly', ['the', 'four-page', 'paper', 'he']), ('paper', ['four-page', 'weekly', 'he', 'edited']), ('he', ['weekly', 'paper', 'edited', 'during']), ('edited', ['paper', 'he', 'during', '1833']), ('during', ['he', 'edited', '1833', ',']), ('1833', ['edited', 'during', ',', 'the']), (',', ['during', '1833', 'the', 'peaceful']), ('the', ['1833', ',', 'peaceful', 'revolutionist']), ('peaceful', [',', 'the', 'revolutionist', ',']), ('revolutionist', ['the', 'peaceful', ',', 'was']), (',', ['peaceful', 'revolutionist', 'was', 'the']), ('was', ['revolutionist', ',', 'the', 'first']), ('the', [',', 'was', 'first', 'anarchist']), ('first', ['was', 'the', 'anarchist', 'periodical']), ('anarchist', ['the', 'first', 'periodical', 'published']), ('periodical', ['first', 'anarchist', 'published', '.\\n']), ('published', ['anarchist', 'periodical', '.\\n']), ('.\\n', ['periodical', 'published']), ('weak', ['central', 'coherence']), ('central', ['weak', 'coherence', 'theory']), ('coherence', ['weak', 'central', 'theory', 'hypothesizes']), ('theory', ['central', 'coherence', 'hypothesizes', 'that']), ('hypothesizes', ['coherence', 'theory', 'that', 'a']), ('that', ['theory', 'hypothesizes', 'a', 'limited']), ('a', ['hypothesizes', 'that', 'limited', 'ability']), ('limited', ['that', 'a', 'ability', 'to']), ('ability', ['a', 'limited', 'to', 'see']), ('to', ['limited', 'ability', 'see', 'the']), ('see', ['ability', 'to', 'the', 'big']), ('the', ['to', 'see', 'big', 'picture']), ('big', ['see', 'the', 'picture', 'underlies']), ('picture', ['the', 'big', 'underlies', 'the']), ('underlies', ['big', 'picture', 'the', 'central']), ('the', ['picture', 'underlies', 'central', 'disturbance']), ('central', ['underlies', 'the', 'disturbance', 'in']), ('disturbance', ['the', 'central', 'in', 'autism']), ('in', ['central', 'disturbance', 'autism', '.\\n']), ('autism', ['disturbance', 'in', '.\\n']), ('.\\n', ['in', 'autism']), ('the', ['word', 'autism']), ('word', ['the', 'autism', 'first']), ('autism', ['the', 'word', 'first', 'took']), ('first', ['word', 'autism', 'took', 'its']), ('took', ['autism', 'first', 'its', 'modern']), ('its', ['first', 'took', 'modern', 'sense']), ('modern', ['took', 'its', 'sense', 'in']), ('sense', ['its', 'modern', 'in', '1938']), ('in', ['modern', 'sense', '1938', 'when']), ('1938', ['sense', 'in', 'when', 'hans']), ('when', ['in', '1938', 'hans', 'asperger']), ('hans', ['1938', 'when', 'asperger', 'of']), ('asperger', ['when', 'hans', 'of', 'the']), ('of', ['hans', 'asperger', 'the', 'vienna']), ('the', ['asperger', 'of', 'vienna', 'university']), ('vienna', ['of', 'the', 'university', 'hospital']), ('university', ['the', 'vienna', 'hospital', 'adopted']), ('hospital', ['vienna', 'university', 'adopted', 'bleuler']), ('adopted', ['university', 'hospital', 'bleuler', \"'s\"]), ('bleuler', ['hospital', 'adopted', \"'s\", 'terminology']), (\"'s\", ['adopted', 'bleuler', 'terminology', 'autistic']), ('terminology', ['bleuler', \"'s\", 'autistic', 'psychopaths']), ('autistic', [\"'s\", 'terminology', 'psychopaths', 'in']), ('psychopaths', ['terminology', 'autistic', 'in', 'a']), ('in', ['autistic', 'psychopaths', 'a', 'lecture']), ('a', ['psychopaths', 'in', 'lecture', 'in']), ('lecture', ['in', 'a', 'in', 'german']), ('in', ['a', 'lecture', 'german', 'about']), ('german', ['lecture', 'in', 'about', 'child']), ('about', ['in', 'german', 'child', 'psychology']), ('child', ['german', 'about', 'psychology', '.\\n']), ('psychology', ['about', 'child', '.\\n']), ('.\\n', ['child', 'psychology']), ('most', ['land', 'areas']), ('land', ['most', 'areas', 'are']), ('areas', ['most', 'land', 'are', 'in']), ('are', ['land', 'areas', 'in', 'an']), ('in', ['areas', 'are', 'an', 'albedo']), ('an', ['are', 'in', 'albedo', 'range']), ('albedo', ['in', 'an', 'range', 'of']), ('range', ['an', 'albedo', 'of', '0.1']), ('of', ['albedo', 'range', '0.1', 'to']), ('0.1', ['range', 'of', 'to', '0.4']), ('to', ['of', '0.1', '0.4', '.\\n']), ('0.4', ['0.1', 'to', '.\\n']), ('.\\n', ['to', '0.4']), ('now', ['expanded', 'to']), ('expanded', ['now', 'to', 'nine']), ('to', ['now', 'expanded', 'nine', ',']), ('nine', ['expanded', 'to', ',', 'these']), (',', ['to', 'nine', 'these', 'include']), ('these', ['nine', ',', 'include', 'the']), ('include', [',', 'these', 'the', 'poarch']), ('the', ['these', 'include', 'poarch', 'band']), ('poarch', ['include', 'the', 'band', 'of']), ('band', ['the', 'poarch', 'of', 'creek']), ('of', ['poarch', 'band', 'creek', 'indians']), ('creek', ['band', 'of', 'indians', ',']), ('indians', ['of', 'creek', ',', 'mowa']), (',', ['creek', 'indians', 'mowa', 'band']), ('mowa', ['indians', ',', 'band', 'of']), ('band', [',', 'mowa', 'of', 'choctaw']), ('of', ['mowa', 'band', 'choctaw', 'indians']), ('choctaw', ['band', 'of', 'indians', ',']), ('indians', ['of', 'choctaw', ',', 'star']), (',', ['choctaw', 'indians', 'star', 'clan']), ('star', ['indians', ',', 'clan', 'of']), ('clan', [',', 'star', 'of', 'muscogee']), ('of', ['star', 'clan', 'muscogee', 'creeks']), ('muscogee', ['clan', 'of', 'creeks', ',']), ('creeks', ['of', 'muscogee', ',', 'echota']), (',', ['muscogee', 'creeks', 'echota', 'cherokee']), ('echota', ['creeks', ',', 'cherokee', 'tribe']), ('cherokee', [',', 'echota', 'tribe', 'of']), ('tribe', ['echota', 'cherokee', 'of', 'alabama']), ('of', ['cherokee', 'tribe', 'alabama', ',']), ('alabama', ['tribe', 'of', ',', 'cherokees']), (',', ['of', 'alabama', 'cherokees', 'of']), ('cherokees', ['alabama', ',', 'of', 'northeast']), ('of', [',', 'cherokees', 'northeast', 'alabama']), ('northeast', ['cherokees', 'of', 'alabama', ',']), ('alabama', ['of', 'northeast', ',', 'cherokees']), (',', ['northeast', 'alabama', 'cherokees', 'of']), ('cherokees', ['alabama', ',', 'of', 'southeast']), ('of', [',', 'cherokees', 'southeast', 'alabama']), ('southeast', ['cherokees', 'of', 'alabama', ',']), ('alabama', ['of', 'southeast', ',', 'ma-chis']), (',', ['southeast', 'alabama', 'ma-chis', 'lower']), ('ma-chis', ['alabama', ',', 'lower', 'creek']), ('lower', [',', 'ma-chis', 'creek', 'indian']), ('creek', ['ma-chis', 'lower', 'indian', 'tribe']), ('indian', ['lower', 'creek', 'tribe', ',']), ('tribe', ['creek', 'indian', ',', 'piqua']), (',', ['indian', 'tribe', 'piqua', 'sept']), ('piqua', ['tribe', ',', 'sept', 'of']), ('sept', [',', 'piqua', 'of', 'ohio']), ('of', ['piqua', 'sept', 'ohio', 'shawnee']), ('ohio', ['sept', 'of', 'shawnee', 'tribe']), ('shawnee', ['of', 'ohio', 'tribe', ',']), ('tribe', ['ohio', 'shawnee', ',', 'and']), (',', ['shawnee', 'tribe', 'and', 'united']), ('and', ['tribe', ',', 'united', 'cherokee']), ('united', [',', 'and', 'cherokee', 'ani-yun-wiya']), ('cherokee', ['and', 'united', 'ani-yun-wiya', 'nation']), ('ani-yun-wiya', ['united', 'cherokee', 'nation', '.\\n']), ('nation', ['cherokee', 'ani-yun-wiya', '.\\n']), ('.\\n', ['ani-yun-wiya', 'nation']), ('of', ['those', 'who']), ('those', ['of', 'who', 'indicated']), ('who', ['of', 'those', 'indicated', 'a']), ('indicated', ['those', 'who', 'a', 'religious']), ('a', ['who', 'indicated', 'religious', 'preference']), ('religious', ['indicated', 'a', 'preference', ',']), ('preference', ['a', 'religious', ',', '59']), (',', ['religious', 'preference', '59', '%']), ('59', ['preference', ',', '%', 'said']), ('%', [',', '59', 'said', 'they']), ('said', ['59', '%', 'they', 'possessed']), ('they', ['%', 'said', 'possessed', 'a']), ('possessed', ['said', 'they', 'a', '\"']), ('a', ['they', 'possessed', '\"', 'full']), ('\"', ['possessed', 'a', 'full', 'understanding']), ('full', ['a', '\"', 'understanding', '\"']), ('understanding', ['\"', 'full', '\"', 'of']), ('\"', ['full', 'understanding', 'of', 'their']), ('of', ['understanding', '\"', 'their', 'faith']), ('their', ['\"', 'of', 'faith', 'and']), ('faith', ['of', 'their', 'and', 'needed']), ('and', ['their', 'faith', 'needed', 'no']), ('needed', ['faith', 'and', 'no', 'further']), ('no', ['and', 'needed', 'further', 'learning']), ('further', ['needed', 'no', 'learning', '.\\n']), ('learning', ['no', 'further', '.\\n']), ('.\\n', ['further', 'learning']), ('once', ['he', 'realized']), ('he', ['once', 'realized', 'that']), ('realized', ['once', 'he', 'that', 'his']), ('that', ['he', 'realized', 'his', 'distraction']), ('his', ['realized', 'that', 'distraction', 'was']), ('distraction', ['that', 'his', 'was', 'endangering']), ('was', ['his', 'distraction', 'endangering', 'his']), ('endangering', ['distraction', 'was', 'his', 'life']), ('his', ['was', 'endangering', 'life', ',']), ('life', ['endangering', 'his', ',', 'he']), (',', ['his', 'life', 'he', 'refocused']), ('he', ['life', ',', 'refocused', 'and']), ('refocused', [',', 'he', 'and', 'killed']), ('and', ['he', 'refocused', 'killed', 'her']), ('killed', ['refocused', 'and', 'her', '.\\n']), ('her', ['and', 'killed', '.\\n']), ('.\\n', ['killed', 'her']), ('pausanias', ['has', 'been']), ('has', ['pausanias', 'been', 'told']), ('been', ['pausanias', 'has', 'told', 'that']), ('told', ['has', 'been', 'that', 'the']), ('that', ['been', 'told', 'the', 'island']), ('the', ['told', 'that', 'island', 'is']), ('island', ['that', 'the', 'is', '\"']), ('is', ['the', 'island', '\"', 'covered']), ('\"', ['island', 'is', 'covered', 'with']), ('covered', ['is', '\"', 'with', 'forests']), ('with', ['\"', 'covered', 'forests', 'and']), ('forests', ['covered', 'with', 'and', 'full']), ('and', ['with', 'forests', 'full', 'of']), ('full', ['forests', 'and', 'of', 'animals']), ('of', ['and', 'full', 'animals', ',']), ('animals', ['full', 'of', ',', 'some']), (',', ['of', 'animals', 'some', 'wild']), ('some', ['animals', ',', 'wild', ',']), ('wild', [',', 'some', ',', 'some']), (',', ['some', 'wild', 'some', 'tame']), ('some', ['wild', ',', 'tame', '.\\n']), ('tame', [',', 'some', '.\\n']), ('.\\n', ['some', 'tame']), ('in', ['indiana', ',']), ('indiana', ['in', ',', 'when']), (',', ['in', 'indiana', 'when', 'lincoln']), ('when', ['indiana', ',', 'lincoln', 'was']), ('lincoln', [',', 'when', 'was', 'nine']), ('was', ['when', 'lincoln', 'nine', ',']), ('nine', ['lincoln', 'was', ',', 'his']), (',', ['was', 'nine', 'his', 'mother']), ('his', ['nine', ',', 'mother', 'nancy']), ('mother', [',', 'his', 'nancy', 'died']), ('nancy', ['his', 'mother', 'died', 'of']), ('died', ['mother', 'nancy', 'of', 'milk']), ('of', ['nancy', 'died', 'milk', 'sickness']), ('milk', ['died', 'of', 'sickness', 'in']), ('sickness', ['of', 'milk', 'in', '1818']), ('in', ['milk', 'sickness', '1818', '.\\n']), ('1818', ['sickness', 'in', '.\\n']), ('.\\n', ['in', '1818']), ('canoeing', ['down', 'the']), ('down', ['canoeing', 'the', 'sangamon']), ('the', ['canoeing', 'down', 'sangamon', 'river']), ('sangamon', ['down', 'the', 'river', ',']), ('river', ['the', 'sangamon', ',', 'lincoln']), (',', ['sangamon', 'river', 'lincoln', 'ended']), ('lincoln', ['river', ',', 'ended', 'up']), ('ended', [',', 'lincoln', 'up', 'in']), ('up', ['lincoln', 'ended', 'in', 'the']), ('in', ['ended', 'up', 'the', 'village']), ('the', ['up', 'in', 'village', 'of']), ('village', ['in', 'the', 'of', 'new']), ('of', ['the', 'village', 'new', 'salem']), ('new', ['village', 'of', 'salem', 'in']), ('salem', ['of', 'new', 'in', 'sangamon']), ('in', ['new', 'salem', 'sangamon', 'county']), ('sangamon', ['salem', 'in', 'county', '.\\n']), ('county', ['in', 'sangamon', '.\\n']), ('.\\n', ['sangamon', 'county']), ('the', ['lincolns', \"'\"]), ('lincolns', ['the', \"'\", 'fourth']), (\"'\", ['the', 'lincolns', 'fourth', 'son']), ('fourth', ['lincolns', \"'\", 'son', ',']), ('son', [\"'\", 'fourth', ',', 'thomas']), (',', ['fourth', 'son', 'thomas', '\"']), ('thomas', ['son', ',', '\"', 'tad']), ('\"', [',', 'thomas', 'tad', '\"']), ('tad', ['thomas', '\"', '\"', 'lincoln']), ('\"', ['\"', 'tad', 'lincoln', ',']), ('lincoln', ['tad', '\"', ',', 'was']), (',', ['\"', 'lincoln', 'was', 'born']), ('was', ['lincoln', ',', 'born', 'on']), ('born', [',', 'was', 'on', 'april']), ('on', ['was', 'born', 'april', '4']), ('april', ['born', 'on', '4', ',']), ('4', ['on', 'april', ',', '1853']), (',', ['april', '4', '1853', ',']), ('1853', ['4', ',', ',', 'and']), (',', [',', '1853', 'and', 'died']), ('and', ['1853', ',', 'died', 'of']), ('died', [',', 'and', 'of', 'heart']), ('of', ['and', 'died', 'heart', 'failure']), ('heart', ['died', 'of', 'failure', 'at']), ('failure', ['of', 'heart', 'at', 'the']), ('at', ['heart', 'failure', 'the', 'age']), ('the', ['failure', 'at', 'age', 'of']), ('age', ['at', 'the', 'of', '18']), ('of', ['the', 'age', '18', 'on']), ('18', ['age', 'of', 'on', 'july']), ('on', ['of', '18', 'july', '16']), ('july', ['18', 'on', '16', ',']), ('16', ['on', 'july', ',', '1871']), (',', ['july', '16', '1871', '.\\n']), ('1871', ['16', ',', '.\\n']), ('.\\n', [',', '1871']), ('lincoln', ['also', 'supported']), ('also', ['lincoln', 'supported', 'the']), ('supported', ['lincoln', 'also', 'the', 'wilmot']), ('the', ['also', 'supported', 'wilmot', 'proviso']), ('wilmot', ['supported', 'the', 'proviso', ',']), ('proviso', ['the', 'wilmot', ',', 'which']), (',', ['wilmot', 'proviso', 'which', ',']), ('which', ['proviso', ',', ',', 'if']), (',', [',', 'which', 'if', 'it']), ('if', ['which', ',', 'it', 'had']), ('it', [',', 'if', 'had', 'been']), ('had', ['if', 'it', 'been', 'adopted']), ('been', ['it', 'had', 'adopted', ',']), ('adopted', ['had', 'been', ',', 'would']), (',', ['been', 'adopted', 'would', 'have']), ('would', ['adopted', ',', 'have', 'banned']), ('have', [',', 'would', 'banned', 'slavery']), ('banned', ['would', 'have', 'slavery', 'in']), ('slavery', ['have', 'banned', 'in', 'any']), ('in', ['banned', 'slavery', 'any', 'u.s.']), ('any', ['slavery', 'in', 'u.s.', 'territory']), ('u.s.', ['in', 'any', 'territory', 'won']), ('territory', ['any', 'u.s.', 'won', 'from']), ('won', ['u.s.', 'territory', 'from', 'mexico']), ('from', ['territory', 'won', 'mexico', '.\\n']), ('mexico', ['won', 'from', '.\\n']), ('.\\n', ['from', 'mexico']), ('lincoln', ['emphasized', 'his']), ('emphasized', ['lincoln', 'his', 'opposition']), ('his', ['lincoln', 'emphasized', 'opposition', 'to']), ('opposition', ['emphasized', 'his', 'to', 'polk']), ('to', ['his', 'opposition', 'polk', 'by']), ('polk', ['opposition', 'to', 'by', 'drafting']), ('by', ['to', 'polk', 'drafting', 'and']), ('drafting', ['polk', 'by', 'and', 'introducing']), ('and', ['by', 'drafting', 'introducing', 'his']), ('introducing', ['drafting', 'and', 'his', 'spot']), ('his', ['and', 'introducing', 'spot', 'resolutions']), ('spot', ['introducing', 'his', 'resolutions', '.\\n']), ('resolutions', ['his', 'spot', '.\\n']), ('.\\n', ['spot', 'resolutions']), ('realizing', ['clay', 'was']), ('clay', ['realizing', 'was', 'unlikely']), ('was', ['realizing', 'clay', 'unlikely', 'to']), ('unlikely', ['clay', 'was', 'to', 'win']), ('to', ['was', 'unlikely', 'win', 'the']), ('win', ['unlikely', 'to', 'the', 'presidency']), ('the', ['to', 'win', 'presidency', ',']), ('presidency', ['win', 'the', ',', 'lincoln']), (',', ['the', 'presidency', 'lincoln', ',']), ('lincoln', ['presidency', ',', ',', 'who']), (',', [',', 'lincoln', 'who', 'had']), ('who', ['lincoln', ',', 'had', 'pledged']), ('had', [',', 'who', 'pledged', 'in']), ('pledged', ['who', 'had', 'in', '1846']), ('in', ['had', 'pledged', '1846', 'to']), ('1846', ['pledged', 'in', 'to', 'serve']), ('to', ['in', '1846', 'serve', 'only']), ('serve', ['1846', 'to', 'only', 'one']), ('only', ['to', 'serve', 'one', 'term']), ('one', ['serve', 'only', 'term', 'in']), ('term', ['only', 'one', 'in', 'the']), ('in', ['one', 'term', 'the', 'house']), ('the', ['term', 'in', 'house', ',']), ('house', ['in', 'the', ',', 'supported']), (',', ['the', 'house', 'supported', 'general']), ('supported', ['house', ',', 'general', 'zachary']), ('general', [',', 'supported', 'zachary', 'taylor']), ('zachary', ['supported', 'general', 'taylor', 'for']), ('taylor', ['general', 'zachary', 'for', 'the']), ('for', ['zachary', 'taylor', 'the', 'whig']), ('the', ['taylor', 'for', 'whig', 'nomination']), ('whig', ['for', 'the', 'nomination', 'in']), ('nomination', ['the', 'whig', 'in', 'the']), ('in', ['whig', 'nomination', 'the', '1848']), ('the', ['nomination', 'in', '1848', 'presidential']), ('1848', ['in', 'the', 'presidential', 'election']), ('presidential', ['the', '1848', 'election', '.\\n']), ('election', ['1848', 'presidential', '.\\n']), ('.\\n', ['presidential', 'election']), ('the', ['awards', 'were']), ('awards', ['the', 'were', 'first']), ('were', ['the', 'awards', 'first', 'given']), ('first', ['awards', 'were', 'given', 'in']), ('given', ['were', 'first', 'in', '1929']), ('in', ['first', 'given', '1929', 'at']), ('1929', ['given', 'in', 'at', 'a']), ('at', ['in', '1929', 'a', 'ceremony']), ('a', ['1929', 'at', 'ceremony', 'created']), ('ceremony', ['at', 'a', 'created', 'for']), ('created', ['a', 'ceremony', 'for', 'the']), ('for', ['ceremony', 'created', 'the', 'awards']), ('the', ['created', 'for', 'awards', ',']), ('awards', ['for', 'the', ',', 'at']), (',', ['the', 'awards', 'at', 'the']), ('at', ['awards', ',', 'the', 'hotel']), ('the', [',', 'at', 'hotel', 'roosevelt']), ('hotel', ['at', 'the', 'roosevelt', 'in']), ('roosevelt', ['the', 'hotel', 'in', 'hollywood']), ('in', ['hotel', 'roosevelt', 'hollywood', '.\\n']), ('hollywood', ['roosevelt', 'in', '.\\n']), ('.\\n', ['in', 'hollywood']), ('after', ['the', 'success']), ('the', ['after', 'success', 'of']), ('success', ['after', 'the', 'of', 'her']), ('of', ['the', 'success', 'her', 'later']), ('her', ['success', 'of', 'later', 'novels']), ('later', ['of', 'her', 'novels', ',']), ('novels', ['her', 'later', ',', 'rand']), (',', ['later', 'novels', 'rand', 'was']), ('rand', ['novels', ',', 'was', 'able']), ('was', [',', 'rand', 'able', 'to']), ('able', ['rand', 'was', 'to', 'release']), ('to', ['was', 'able', 'release', 'a']), ('release', ['able', 'to', 'a', 'revised']), ('a', ['to', 'release', 'revised', 'version']), ('revised', ['release', 'a', 'version', 'in']), ('version', ['a', 'revised', 'in', '1959']), ('in', ['revised', 'version', '1959', 'that']), ('1959', ['version', 'in', 'that', 'has']), ('that', ['in', '1959', 'has', 'since']), ('has', ['1959', 'that', 'since', 'sold']), ('since', ['that', 'has', 'sold', 'over']), ('sold', ['has', 'since', 'over', 'three']), ('over', ['since', 'sold', 'three', 'million']), ('three', ['sold', 'over', 'million', 'copies']), ('million', ['over', 'three', 'copies', '.\\n']), ('copies', ['three', 'million', '.\\n']), ('.\\n', ['million', 'copies']), ('career', ['dwan', 'operated']), ('dwan', ['career', 'operated', 'flying']), ('operated', ['career', 'dwan', 'flying', 'a']), ('flying', ['dwan', 'operated', 'a', 'studios']), ('a', ['operated', 'flying', 'studios', 'in']), ('studios', ['flying', 'a', 'in', 'la']), ('in', ['a', 'studios', 'la', 'mesa']), ('la', ['studios', 'in', 'mesa', ',']), ('mesa', ['in', 'la', ',', 'california']), (',', ['la', 'mesa', 'california', 'from']), ('california', ['mesa', ',', 'from', 'august']), ('from', [',', 'california', 'august', ',']), ('august', ['california', 'from', ',', '1911']), (',', ['from', 'august', '1911', 'to']), ('1911', ['august', ',', 'to', 'july']), ('to', [',', '1911', 'july', ',']), ('july', ['1911', 'to', ',', '1912']), (',', ['to', 'july', '1912', '.\\n']), ('1912', ['july', ',', '.\\n']), ('.\\n', [',', '1912']), ('ibn', ['khaldun', 'provides']), ('khaldun', ['ibn', 'provides', 'a']), ('provides', ['ibn', 'khaldun', 'a', 'table']), ('a', ['khaldun', 'provides', 'table', 'summarizing']), ('table', ['provides', 'a', 'summarizing', 'the']), ('summarizing', ['a', 'table', 'the', 'zirid']), ('the', ['table', 'summarizing', 'zirid', ',']), ('zirid', ['summarizing', 'the', ',', 'banu']), (',', ['the', 'zirid', 'banu', 'ifran']), ('banu', ['zirid', ',', 'ifran', ',']), ('ifran', [',', 'banu', ',', 'maghrawa']), (',', ['banu', 'ifran', 'maghrawa', ',']), ('maghrawa', ['ifran', ',', ',', 'almoravid']), (',', [',', 'maghrawa', 'almoravid', ',']), ('almoravid', ['maghrawa', ',', ',', 'hammadid']), (',', [',', 'almoravid', 'hammadid', ',']), ('hammadid', ['almoravid', ',', ',', 'almohad']), (',', [',', 'hammadid', 'almohad', ',']), ('almohad', ['hammadid', ',', ',', 'merinid']), (',', [',', 'almohad', 'merinid', ',']), ('merinid', ['almohad', ',', ',', 'abdalwadid']), (',', [',', 'merinid', 'abdalwadid', ',']), ('abdalwadid', ['merinid', ',', ',', 'wattasid']), (',', [',', 'abdalwadid', 'wattasid', ',']), ('wattasid', ['abdalwadid', ',', ',', 'meknassa']), (',', [',', 'wattasid', 'meknassa', 'and']), ('meknassa', ['wattasid', ',', 'and', 'hafsid']), ('and', [',', 'meknassa', 'hafsid', 'dynasties']), ('hafsid', ['meknassa', 'and', 'dynasties', '.\\n']), ('dynasties', ['and', 'hafsid', '.\\n']), ('.\\n', ['hafsid', 'dynasties']), ('the', ['forests', 'are']), ('forests', ['the', 'are', 'inhabited']), ('are', ['the', 'forests', 'inhabited', 'by']), ('inhabited', ['forests', 'are', 'by', 'boars']), ('by', ['are', 'inhabited', 'boars', 'and']), ('boars', ['inhabited', 'by', 'and', 'jackals']), ('and', ['by', 'boars', 'jackals', '.\\n']), ('jackals', ['boars', 'and', '.\\n']), ('.\\n', ['and', 'jackals']), ('russia', ['is', 'also']), ('is', ['russia', 'also', 'building']), ('also', ['russia', 'is', 'building', 'two']), ('building', ['is', 'also', 'two', '636-type']), ('two', ['also', 'building', '636-type', 'diesel']), ('636-type', ['building', 'two', 'diesel', 'submarines']), ('diesel', ['two', '636-type', 'submarines', 'for']), ('submarines', ['636-type', 'diesel', 'for', 'algeria']), ('for', ['diesel', 'submarines', 'algeria', '.\\n']), ('algeria', ['submarines', 'for', '.\\n']), ('.\\n', ['for', 'algeria']), ('the', ['undisputed', 'master']), ('undisputed', ['the', 'master', 'of']), ('master', ['the', 'undisputed', 'of', 'this']), ('of', ['undisputed', 'master', 'this', 'music']), ('this', ['master', 'of', 'music', 'is']), ('music', ['of', 'this', 'is', 'el']), ('is', ['this', 'music', 'el', 'hadj']), ('el', ['music', 'is', 'hadj', \"m'hamed\"]), ('hadj', ['is', 'el', \"m'hamed\", 'el']), (\"m'hamed\", ['el', 'hadj', 'el', 'anka']), ('el', ['hadj', \"m'hamed\", 'anka', '.\\n']), ('anka', [\"m'hamed\", 'el', '.\\n']), ('.\\n', ['el', 'anka']), ('best', ['universities', 'of']), ('universities', ['best', 'of', 'qualifications']), ('of', ['best', 'universities', 'qualifications', 'remain']), ('qualifications', ['universities', 'of', 'remain', 'the']), ('remain', ['of', 'qualifications', 'the', 'university']), ('the', ['qualifications', 'remain', 'university', 'of']), ('university', ['remain', 'the', 'of', 'tlemcen']), ('of', ['the', 'university', 'tlemcen', 'and']), ('tlemcen', ['university', 'of', 'and', 'batna']), ('and', ['of', 'tlemcen', 'batna', 'hadj']), ('batna', ['tlemcen', 'and', 'hadj', 'bereket']), ('hadj', ['and', 'batna', 'bereket', ',']), ('bereket', ['batna', 'hadj', ',', 'they']), (',', ['hadj', 'bereket', 'they', 'occupy']), ('they', ['bereket', ',', 'occupy', 'the']), ('occupy', [',', 'they', 'the', '26th']), ('the', ['they', 'occupy', '26th', 'and']), ('26th', ['occupy', 'the', 'and', '45th']), ('and', ['the', '26th', '45th', 'row']), ('45th', ['26th', 'and', 'row', 'in']), ('row', ['and', '45th', 'in', 'africa']), ('in', ['45th', 'row', 'africa', ',']), ('africa', ['row', 'in', ',', 'which']), (',', ['in', 'africa', 'which', 'is']), ('which', ['africa', ',', 'is', 'a']), ('is', [',', 'which', 'a', 'very']), ('a', ['which', 'is', 'very', 'bad']), ('very', ['is', 'a', 'bad', 'standing']), ('bad', ['a', 'very', 'standing', '.\\n']), ('standing', ['very', 'bad', '.\\n']), ('.\\n', ['bad', 'standing']), ('anthropologists', ['study', 'topics']), ('study', ['anthropologists', 'topics', 'including']), ('topics', ['anthropologists', 'study', 'including', 'the']), ('including', ['study', 'topics', 'the', 'origin']), ('the', ['topics', 'including', 'origin', 'and']), ('origin', ['including', 'the', 'and', 'evolution']), ('and', ['the', 'origin', 'evolution', 'of']), ('evolution', ['origin', 'and', 'of', 'homo']), ('of', ['and', 'evolution', 'homo', 'sapiens']), ('homo', ['evolution', 'of', 'sapiens', ',']), ('sapiens', ['of', 'homo', ',', 'the']), (',', ['homo', 'sapiens', 'the', 'organization']), ('the', ['sapiens', ',', 'organization', 'of']), ('organization', [',', 'the', 'of', 'human']), ('of', ['the', 'organization', 'human', 'social']), ('human', ['organization', 'of', 'social', 'and']), ('social', ['of', 'human', 'and', 'cultural']), ('and', ['human', 'social', 'cultural', 'relations']), ('cultural', ['social', 'and', 'relations', ',']), ('relations', ['and', 'cultural', ',', 'human']), (',', ['cultural', 'relations', 'human', 'physical']), ('human', ['relations', ',', 'physical', 'traits']), ('physical', [',', 'human', 'traits', ',']), ('traits', ['human', 'physical', ',', 'human']), (',', ['physical', 'traits', 'human', 'behavior']), ('human', ['traits', ',', 'behavior', ',']), ('behavior', [',', 'human', ',', 'the']), (',', ['human', 'behavior', 'the', 'variations']), ('the', ['behavior', ',', 'variations', 'among']), ('variations', [',', 'the', 'among', 'different']), ('among', ['the', 'variations', 'different', 'groups']), ('different', ['variations', 'among', 'groups', 'of']), ('groups', ['among', 'different', 'of', 'humans']), ('of', ['different', 'groups', 'humans', ',']), ('humans', ['groups', 'of', ',', 'how']), (',', ['of', 'humans', 'how', 'the']), ('how', ['humans', ',', 'the', 'evolutionary']), ('the', [',', 'how', 'evolutionary', 'past']), ('evolutionary', ['how', 'the', 'past', 'of']), ('past', ['the', 'evolutionary', 'of', 'homo']), ('of', ['evolutionary', 'past', 'homo', 'sapiens']), ('homo', ['past', 'of', 'sapiens', 'has']), ('sapiens', ['of', 'homo', 'has', 'influenced']), ('has', ['homo', 'sapiens', 'influenced', 'its']), ('influenced', ['sapiens', 'has', 'its', 'social']), ('its', ['has', 'influenced', 'social', 'organization']), ('social', ['influenced', 'its', 'organization', 'and']), ('organization', ['its', 'social', 'and', 'culture']), ('and', ['social', 'organization', 'culture', ',']), ('culture', ['organization', 'and', ',', 'and']), (',', ['and', 'culture', 'and', 'so']), ('and', ['culture', ',', 'so', 'forth']), ('so', [',', 'and', 'forth', '.\\n']), ('forth', ['and', 'so', '.\\n']), ('.\\n', ['so', 'forth']), ('the', ['alchemist', 'robert']), ('alchemist', ['the', 'robert', 'boyle']), ('robert', ['the', 'alchemist', 'boyle', 'is']), ('boyle', ['alchemist', 'robert', 'is', 'credited']), ('is', ['robert', 'boyle', 'credited', 'as']), ('credited', ['boyle', 'is', 'as', 'being']), ('as', ['is', 'credited', 'being', 'the']), ('being', ['credited', 'as', 'the', 'father']), ('the', ['as', 'being', 'father', 'of']), ('father', ['being', 'the', 'of', 'chemistry']), ('of', ['the', 'father', 'chemistry', '.\\n']), ('chemistry', ['father', 'of', '.\\n']), ('.\\n', ['of', 'chemistry']), ('alchemy', ['coexisted', 'alongside']), ('coexisted', ['alchemy', 'alongside', 'emerging']), ('alongside', ['alchemy', 'coexisted', 'emerging', 'christianity']), ('emerging', ['coexisted', 'alongside', 'christianity', '.\\n']), ('christianity', ['alongside', 'emerging', '.\\n']), ('.\\n', ['emerging', 'christianity']), ('his', ['writing', 'portrayed']), ('writing', ['his', 'portrayed', 'alchemy']), ('portrayed', ['his', 'writing', 'alchemy', 'as']), ('alchemy', ['writing', 'portrayed', 'as', 'a']), ('as', ['portrayed', 'alchemy', 'a', 'sort']), ('a', ['alchemy', 'as', 'sort', 'of']), ('sort', ['as', 'a', 'of', 'terrestrial']), ('of', ['a', 'sort', 'terrestrial', 'astronomy']), ('terrestrial', ['sort', 'of', 'astronomy', 'in']), ('astronomy', ['of', 'terrestrial', 'in', 'line']), ('in', ['terrestrial', 'astronomy', 'line', 'with']), ('line', ['astronomy', 'in', 'with', 'the']), ('with', ['in', 'line', 'the', 'hermetic']), ('the', ['line', 'with', 'hermetic', 'axiom']), ('hermetic', ['with', 'the', 'axiom', 'as']), ('axiom', ['the', 'hermetic', 'as', 'above']), ('as', ['hermetic', 'axiom', 'above', 'so']), ('above', ['axiom', 'as', 'so', 'below']), ('so', ['as', 'above', 'below', '.\\n']), ('below', ['above', 'so', '.\\n']), ('.\\n', ['so', 'below']), ('on', ['some', 'systems']), ('some', ['on', 'systems', 'control-s']), ('systems', ['on', 'some', 'control-s', 'retains']), ('control-s', ['some', 'systems', 'retains', 'its']), ('retains', ['systems', 'control-s', 'its', 'meaning']), ('its', ['control-s', 'retains', 'meaning', 'but']), ('meaning', ['retains', 'its', 'but', 'control-q']), ('but', ['its', 'meaning', 'control-q', 'is']), ('control-q', ['meaning', 'but', 'is', 'replaced']), ('is', ['but', 'control-q', 'replaced', 'by']), ('replaced', ['control-q', 'is', 'by', 'a']), ('by', ['is', 'replaced', 'a', 'second']), ('a', ['replaced', 'by', 'second', 'control-s']), ('second', ['by', 'a', 'control-s', 'to']), ('control-s', ['a', 'second', 'to', 'resume']), ('to', ['second', 'control-s', 'resume', 'output']), ('resume', ['control-s', 'to', 'output', '.\\n']), ('output', ['to', 'resume', '.\\n']), ('.\\n', ['resume', 'output']), ('her', ['tears', 'formed']), ('tears', ['her', 'formed', 'the']), ('formed', ['her', 'tears', 'the', 'river']), ('the', ['tears', 'formed', 'river', 'achelous']), ('river', ['formed', 'the', 'achelous', '.\\n']), ('achelous', ['the', 'river', '.\\n']), ('.\\n', ['river', 'achelous']), ('there', ['are', 'three']), ('are', ['there', 'three', 'systems']), ('three', ['there', 'are', 'systems', 'of']), ('systems', ['are', 'three', 'of', 'schools']), ('of', ['three', 'systems', 'schools', '–']), ('schools', ['systems', 'of', '–', 'andorran']), ('–', ['of', 'schools', 'andorran', ',']), ('andorran', ['schools', '–', ',', 'french']), (',', ['–', 'andorran', 'french', 'and']), ('french', ['andorran', ',', 'and', 'spanish']), ('and', [',', 'french', 'spanish', '–']), ('spanish', ['french', 'and', '–', 'which']), ('–', ['and', 'spanish', 'which', 'use']), ('which', ['spanish', '–', 'use', 'catalan']), ('use', ['–', 'which', 'catalan', ',']), ('catalan', ['which', 'use', ',', 'french']), (',', ['use', 'catalan', 'french', 'and']), ('french', ['catalan', ',', 'and', 'spanish']), ('and', [',', 'french', 'spanish', ',']), ('spanish', ['french', 'and', ',', 'respectively']), (',', ['and', 'spanish', 'respectively', ',']), ('respectively', ['spanish', ',', ',', 'as']), (',', [',', 'respectively', 'as', 'the']), ('as', ['respectively', ',', 'the', 'main']), ('the', [',', 'as', 'main', 'language']), ('main', ['as', 'the', 'language', 'of']), ('language', ['the', 'main', 'of', 'instruction']), ('of', ['main', 'language', 'instruction', '.\\n']), ('instruction', ['language', 'of', '.\\n']), ('.\\n', ['of', 'instruction']), ('soule', ['argued', 'that']), ('argued', ['soule', 'that', 'the']), ('that', ['soule', 'argued', 'the', 'animals']), ('the', ['argued', 'that', 'animals', 'were']), ('animals', ['that', 'the', 'were', 'not']), ('were', ['the', 'animals', 'not', 'consistent']), ('not', ['animals', 'were', 'consistent', 'enough']), ('consistent', ['were', 'not', 'enough', 'with']), ('enough', ['not', 'consistent', 'with', 'their']), ('with', ['consistent', 'enough', 'their', 'real']), ('their', ['enough', 'with', 'real', 'world']), ('real', ['with', 'their', 'world', 'inspirations']), ('world', ['their', 'real', 'inspirations', ',']), ('inspirations', ['real', 'world', ',', 'and']), (',', ['world', 'inspirations', 'and', 'said']), ('and', ['inspirations', ',', 'said', ',']), ('said', [',', 'and', ',', '\"']), (',', ['and', 'said', '\"', 'it']), ('\"', ['said', ',', 'it', 'seems']), ('it', [',', '\"', 'seems', 'to']), ('seems', ['\"', 'it', 'to', 'me']), ('to', ['it', 'seems', 'me', 'that']), ('me', ['seems', 'to', 'that', 'the']), ('that', ['to', 'me', 'the', 'failure']), ('the', ['me', 'that', 'failure', 'of']), ('failure', ['that', 'the', 'of', 'this']), ('of', ['the', 'failure', 'this', 'book']), ('this', ['failure', 'of', 'book', '(']), ('book', ['of', 'this', '(', 'commercially']), ('(', ['this', 'book', 'commercially', 'it']), ('commercially', ['book', '(', 'it', 'is']), ('it', ['(', 'commercially', 'is', 'already']), ('is', ['commercially', 'it', 'already', 'assured']), ('already', ['it', 'is', 'assured', 'of']), ('assured', ['is', 'already', 'of', 'tremendous']), ('of', ['already', 'assured', 'tremendous', 'success']), ('tremendous', ['assured', 'of', 'success', ')']), ('success', ['of', 'tremendous', ')', 'arises']), (')', ['tremendous', 'success', 'arises', 'from']), ('arises', ['success', ')', 'from', 'the']), ('from', [')', 'arises', 'the', 'fact']), ('the', ['arises', 'from', 'fact', 'that']), ('fact', ['from', 'the', 'that', 'the']), ('that', ['the', 'fact', 'the', 'satire']), ('the', ['fact', 'that', 'satire', 'deals']), ('satire', ['that', 'the', 'deals', 'not']), ('deals', ['the', 'satire', 'not', 'with']), ('not', ['satire', 'deals', 'with', 'something']), ('with', ['deals', 'not', 'something', 'the']), ('something', ['not', 'with', 'the', 'author']), ('the', ['with', 'something', 'author', 'has']), ('author', ['something', 'the', 'has', 'experienced']), ('has', ['the', 'author', 'experienced', ',']), ('experienced', ['author', 'has', ',', 'but']), (',', ['has', 'experienced', 'but', 'rather']), ('but', ['experienced', ',', 'rather', 'with']), ('rather', [',', 'but', 'with', 'stereotyped']), ('with', ['but', 'rather', 'stereotyped', 'ideas']), ('stereotyped', ['rather', 'with', 'ideas', 'about']), ('ideas', ['with', 'stereotyped', 'about', 'a']), ('about', ['stereotyped', 'ideas', 'a', 'country']), ('a', ['ideas', 'about', 'country', 'which']), ('country', ['about', 'a', 'which', 'he']), ('which', ['a', 'country', 'he', 'probably']), ('he', ['country', 'which', 'probably', 'does']), ('probably', ['which', 'he', 'does', 'not']), ('does', ['he', 'probably', 'not', 'know']), ('not', ['probably', 'does', 'know', 'very']), ('know', ['does', 'not', 'very', 'well']), ('very', ['not', 'know', 'well', '\"']), ('well', ['know', 'very', '\"', '.\\n']), ('\"', ['very', 'well', '.\\n']), ('.\\n', ['well', '\"']), ('orwell', ['biographer', 'jeffrey']), ('biographer', ['orwell', 'jeffrey', 'meyers']), ('jeffrey', ['orwell', 'biographer', 'meyers', 'has']), ('meyers', ['biographer', 'jeffrey', 'has', 'written']), ('has', ['jeffrey', 'meyers', 'written', ',']), ('written', ['meyers', 'has', ',', '\"']), (',', ['has', 'written', '\"', 'virtually']), ('\"', ['written', ',', 'virtually', 'every']), ('virtually', [',', '\"', 'every', 'detail']), ('every', ['\"', 'virtually', 'detail', 'has']), ('detail', ['virtually', 'every', 'has', 'political']), ('has', ['every', 'detail', 'political', 'significance']), ('political', ['detail', 'has', 'significance', 'in']), ('significance', ['has', 'political', 'in', 'this']), ('in', ['political', 'significance', 'this', 'allegory']), ('this', ['significance', 'in', 'allegory', '.']), ('allegory', ['in', 'this', '.', '\"\\n']), ('.', ['this', 'allegory', '\"\\n']), ('\"\\n', ['allegory', '.']), ('gymnophiona', ['the', 'order']), ('the', ['gymnophiona', 'order', 'gymnophiona']), ('order', ['gymnophiona', 'the', 'gymnophiona', '(']), ('gymnophiona', ['the', 'order', '(', 'from']), ('(', ['order', 'gymnophiona', 'from', 'the']), ('from', ['gymnophiona', '(', 'the', 'greek']), ('the', ['(', 'from', 'greek', 'gymnos']), ('greek', ['from', 'the', 'gymnos', 'meaning']), ('gymnos', ['the', 'greek', 'meaning', '\"']), ('meaning', ['greek', 'gymnos', '\"', 'naked']), ('\"', ['gymnos', 'meaning', 'naked', '\"']), ('naked', ['meaning', '\"', '\"', 'and']), ('\"', ['\"', 'naked', 'and', 'ophis']), ('and', ['naked', '\"', 'ophis', 'meaning']), ('ophis', ['\"', 'and', 'meaning', '\"']), ('meaning', ['and', 'ophis', '\"', 'serpent']), ('\"', ['ophis', 'meaning', 'serpent', '\"']), ('serpent', ['meaning', '\"', '\"', ')']), ('\"', ['\"', 'serpent', ')', 'or']), (')', ['serpent', '\"', 'or', 'apoda']), ('or', ['\"', ')', 'apoda', '(']), ('apoda', [')', 'or', '(', 'from']), ('(', ['or', 'apoda', 'from', 'the']), ('from', ['apoda', '(', 'the', 'latin']), ('the', ['(', 'from', 'latin', 'an']), ('latin', ['from', 'the', 'an', '-']), ('an', ['the', 'latin', '-', 'meaning']), ('-', ['latin', 'an', 'meaning', '\"']), ('meaning', ['an', '-', '\"', 'without']), ('\"', ['-', 'meaning', 'without', '\"']), ('without', ['meaning', '\"', '\"', 'and']), ('\"', ['\"', 'without', 'and', 'the']), ('and', ['without', '\"', 'the', 'greek']), ('the', ['\"', 'and', 'greek', 'poda']), ('greek', ['and', 'the', 'poda', 'meaning']), ('poda', ['the', 'greek', 'meaning', '\"']), ('meaning', ['greek', 'poda', '\"', 'legs']), ('\"', ['poda', 'meaning', 'legs', '\"']), ('legs', ['meaning', '\"', '\"', ')']), ('\"', ['\"', 'legs', ')', 'comprise']), (')', ['legs', '\"', 'comprise', 'the']), ('comprise', ['\"', ')', 'the', 'caecilians']), ('the', [')', 'comprise', 'caecilians', '.\\n']), ('caecilians', ['comprise', 'the', '.\\n']), ('.\\n', ['the', 'caecilians']), ('other', ['satellite', 'males']), ('satellite', ['other', 'males', 'remain']), ('males', ['other', 'satellite', 'remain', 'quietly']), ('remain', ['satellite', 'males', 'quietly', 'nearby']), ('quietly', ['males', 'remain', 'nearby', ',']), ('nearby', ['remain', 'quietly', ',', 'waiting']), (',', ['quietly', 'nearby', 'waiting', 'for']), ('waiting', ['nearby', ',', 'for', 'their']), ('for', [',', 'waiting', 'their', 'opportunity']), ('their', ['waiting', 'for', 'opportunity', 'to']), ('opportunity', ['for', 'their', 'to', 'take']), ('to', ['their', 'opportunity', 'take', 'over']), ('take', ['opportunity', 'to', 'over', 'a']), ('over', ['to', 'take', 'a', 'territory']), ('a', ['take', 'over', 'territory', '.\\n']), ('territory', ['over', 'a', '.\\n']), ('.\\n', ['a', 'territory']), ('meanwhile', ['they', 'have']), ('they', ['meanwhile', 'have', 'been']), ('have', ['meanwhile', 'they', 'been', 'observed']), ('been', ['they', 'have', 'observed', 'to']), ('observed', ['have', 'been', 'to', 'ingest']), ('to', ['been', 'observed', 'ingest', 'fluid']), ('ingest', ['observed', 'to', 'fluid', 'exuded']), ('fluid', ['to', 'ingest', 'exuded', 'from']), ('exuded', ['ingest', 'fluid', 'from', 'the']), ('from', ['fluid', 'exuded', 'the', 'maternal']), ('the', ['exuded', 'from', 'maternal', 'cloaca']), ('maternal', ['from', 'the', 'cloaca', '.\\n']), ('cloaca', ['the', 'maternal', '.\\n']), ('.\\n', ['maternal', 'cloaca']), ('these', ['are', 'part']), ('are', ['these', 'part', 'of']), ('part', ['these', 'are', 'of', 'the']), ('of', ['are', 'part', 'the', 'broader']), ('the', ['part', 'of', 'broader', 'discipline']), ('broader', ['of', 'the', 'discipline', 'of']), ('discipline', ['the', 'broader', 'of', 'zoology']), ('of', ['broader', 'discipline', 'zoology', 'but']), ('zoology', ['discipline', 'of', 'but', 'are']), ('but', ['of', 'zoology', 'are', 'seldom']), ('are', ['zoology', 'but', 'seldom', 'studied']), ('seldom', ['but', 'are', 'studied', 'alone']), ('studied', ['are', 'seldom', 'alone', '.\\n']), ('alone', ['seldom', 'studied', '.\\n']), ('.\\n', ['studied', 'alone']), ('the', ['state', 'has']), ('state', ['the', 'has', 'an']), ('has', ['the', 'state', 'an', 'independence']), ('an', ['state', 'has', 'independence', 'movement']), ('independence', ['has', 'an', 'movement', 'favoring']), ('movement', ['an', 'independence', 'favoring', 'a']), ('favoring', ['independence', 'movement', 'a', 'vote']), ('a', ['movement', 'favoring', 'vote', 'on']), ('vote', ['favoring', 'a', 'on', 'secession']), ('on', ['a', 'vote', 'secession', 'from']), ('secession', ['vote', 'on', 'from', 'the']), ('from', ['on', 'secession', 'the', 'united']), ('the', ['secession', 'from', 'united', 'states']), ('united', ['from', 'the', 'states', ',']), ('states', ['the', 'united', ',', 'with']), (',', ['united', 'states', 'with', 'the']), ('with', ['states', ',', 'the', 'alaskan']), ('the', [',', 'with', 'alaskan', 'independence']), ('alaskan', ['with', 'the', 'independence', 'party']), ('independence', ['the', 'alaskan', 'party', '.\\n']), ('party', ['alaskan', 'independence', '.\\n']), ('.\\n', ['independence', 'party']), ('between', ['1700', 'and']), ('1700', ['between', 'and', '1980']), ('and', ['between', '1700', '1980', ',']), ('1980', ['1700', 'and', ',', '\"']), (',', ['and', '1980', '\"', 'the']), ('\"', ['1980', ',', 'the', 'total']), ('the', [',', '\"', 'total', 'area']), ('total', ['\"', 'the', 'area', 'of']), ('area', ['the', 'total', 'of', 'cultivated']), ('of', ['total', 'area', 'cultivated', 'land']), ('cultivated', ['area', 'of', 'land', 'worldwide']), ('land', ['of', 'cultivated', 'worldwide', 'increased']), ('worldwide', ['cultivated', 'land', 'increased', '466']), ('increased', ['land', 'worldwide', '466', '%']), ('466', ['worldwide', 'increased', '%', '\"']), ('%', ['increased', '466', '\"', 'and']), ('\"', ['466', '%', 'and', 'yields']), ('and', ['%', '\"', 'yields', 'increased']), ('yields', ['\"', 'and', 'increased', 'dramatically']), ('increased', ['and', 'yields', 'dramatically', ',']), ('dramatically', ['yields', 'increased', ',', 'particularly']), (',', ['increased', 'dramatically', 'particularly', 'because']), ('particularly', ['dramatically', ',', 'because', 'of']), ('because', [',', 'particularly', 'of', 'selectively'])]\n"
     ]
    }
   ],
   "source": [
    "print(corpus_reader(data_path + 'wiki-corpus.50000.txt')[:1000])"
   ]
  },
  {
   "cell_type": "markdown",
   "metadata": {
    "pycharm": {
     "name": "#%% md\n"
    }
   },
   "source": [
    "We sampled 50 000 senteces completely random from the *whole* wikipedia for our training data. Give some reasons why this is good, and why it might be bad. (*note*: We'll have a few questions like these, one or two reasons for and against is sufficient)\n",
    "\n",
    "[2 marks]"
   ]
  },
  {
   "cell_type": "markdown",
   "metadata": {
    "pycharm": {
     "name": "#%% md\n"
    }
   },
   "source": [
    "### Good:\n",
    "- different subjects\n",
    "- big vocabulary\n",
    "- words are used in 'true' meaning (not metaphorical) grammatically because of informative nature\n",
    "\n",
    "### Bad:\n",
    "- one type of language\n",
    "- informative\n",
    "- may lose variety that can be in different kinds of texts\n",
    "- depending on goal"
   ]
  },
  {
   "cell_type": "markdown",
   "metadata": {
    "pycharm": {
     "name": "#%% md\n"
    }
   },
   "source": [
    "### Loading the data\n",
    "\n",
    "We now need to load the data in an appropriate format for torchtext (https://torchtext.readthedocs.io/en/latest/). We'll use PyText for this and it'll follow the same structure as I showed you in the lecture (remember to lower-case all tokens). Create a function which returns a (bucket)iterator of the training data, and the vocabulary object (```Field```). \n",
    "\n",
    "(*hint1*: you can format the data such that the center word always is first, then you only need to use one field)\n",
    "\n",
    "(*hint2*: the code I showed you during the leture is available in /files/pytorch_tutorial/ on canvas)\n",
    "\n",
    "[4 marks]"
   ]
  },
  {
   "cell_type": "code",
   "execution_count": 4,
   "metadata": {
    "pycharm": {
     "name": "#%%\n"
    }
   },
   "outputs": [],
   "source": [
    "from collections import namedtuple\n",
    "from torch.utils.data import Dataset\n",
    "\n",
    "\n",
    "class CustDataset(Dataset):\n",
    "    def __init__(self, data):\n",
    "        self.vocab = {}\n",
    "        for target_word, context in data:\n",
    "            if target_word not in self.vocab:\n",
    "                self.vocab[target_word] = len(self.vocab)\n",
    "            for word in context:\n",
    "                if word not in self.vocab:\n",
    "                    self.vocab[word] = len(self.vocab)\n",
    "\n",
    "        self.data = data\n",
    "\n",
    "    def __getitem__(self, idx):\n",
    "        target_word, context = self.data[idx]\n",
    "\n",
    "        encoded_context = [self.vocab[word] for word in context]\n",
    "        encoded_context.extend([len(encoded_context)] * (WINDOW_SIZE - len(encoded_context)))\n",
    "\n",
    "        Sample = namedtuple('Sample', 'target_word context')\n",
    "\n",
    "        return Sample(self.vocab[target_word], encoded_context)\n",
    "\n",
    "    def __len__(self):\n",
    "        return len(self.data)\n",
    "\n",
    "    def getVocab(self):\n",
    "        return self.vocab"
   ]
  },
  {
   "cell_type": "code",
   "execution_count": 5,
   "metadata": {
    "pycharm": {
     "name": "#%%\n"
    }
   },
   "outputs": [],
   "source": [
    "from torch.utils.data import DataLoader\n",
    "\n",
    "def get_data(path):\n",
    "    samples = corpus_reader(path)\n",
    "    dataset = CustDataset(samples)\n",
    "    dataloader = DataLoader(dataset,\n",
    "                            batch_size=8,\n",
    "                            shuffle=True,\n",
    "                            collate_fn=lambda x: x)\n",
    "\n",
    "    return dataloader"
   ]
  },
  {
   "cell_type": "markdown",
   "metadata": {
    "pycharm": {
     "name": "#%% md\n"
    }
   },
   "source": [
    "We lower-cased all tokens above; give some reasons why this is a good idea, and why it may be harmful to our embeddings.\n",
    "\n",
    "[2 marks]"
   ]
  },
  {
   "cell_type": "markdown",
   "metadata": {
    "pycharm": {
     "name": "#%% md\n"
    }
   },
   "source": [
    "### Good\n",
    "- beginning of sentences\n",
    "- no duplicates\n",
    "\n",
    "### Bad\n",
    "- some proper nouns may be missed, those that may have a counterpart in a common noun and vice versa (e.g. Mark/mark)\n",
    "- can create problems in other languages (e.g. German)\n"
   ]
  },
  {
   "cell_type": "markdown",
   "metadata": {
    "pycharm": {
     "name": "#%% md\n"
    }
   },
   "source": [
    "## Word Embeddings Model"
   ]
  },
  {
   "cell_type": "markdown",
   "metadata": {
    "pycharm": {
     "name": "#%% md\n"
    }
   },
   "source": [
    "We will implement the CBOW model for constructing word embedding models."
   ]
  },
  {
   "cell_type": "code",
   "execution_count": 6,
   "metadata": {
    "pycharm": {
     "name": "#%%\n"
    }
   },
   "outputs": [],
   "source": [
    "import torch.optim as optim"
   ]
  },
  {
   "cell_type": "markdown",
   "metadata": {
    "pycharm": {
     "name": "#%% md\n"
    }
   },
   "source": [
    "In the CBOW model we try to predict the center word based on the context. That is, we take as input ```n``` context words, encode them as vectors, then combine them by summation. This will give us one embedding. We then use this embedding to predict *which* word in our vocabuary is the most likely center word. \n",
    "\n",
    "Implement this model \n",
    "\n",
    "[7 marks]"
   ]
  },
  {
   "cell_type": "code",
   "execution_count": 7,
   "metadata": {
    "pycharm": {
     "name": "#%%\n"
    }
   },
   "outputs": [],
   "source": [
    "class CBOWModel(nn.Module):\n",
    "    def __init__(self, vocab_size, dimensions):\n",
    "        super(CBOWModel, self).__init__()\n",
    "        self.embeddings = nn.Embedding(vocab_size, dimensions)\n",
    "        self.prediction = nn.Linear(dimensions, vocab_size)\n",
    "\n",
    "    def forward(self, context):\n",
    "        embedded_context = self.embeddings(context)\n",
    "        projection = self.projection_function(embedded_context)\n",
    "        predictions = self.prediction(projection)\n",
    "\n",
    "        return predictions\n",
    "\n",
    "    def projection_function(self, xs):\n",
    "        \"\"\"\n",
    "        This function will take as input a tensor of size (B, S, D)\n",
    "        where B is the batch_size, S the window size, and D the dimensionality of embeddings\n",
    "        this function should compute the sum over the embedding dimensions of the input, \n",
    "        that is, we transform (B, S, D) to (B, 1, D) or (B, D) \n",
    "        \"\"\"\n",
    "        xs_sum = torch.sum(xs, dim=1)\n",
    "        return xs_sum"
   ]
  },
  {
   "cell_type": "markdown",
   "metadata": {
    "pycharm": {
     "name": "#%% md\n"
    }
   },
   "source": [
    "Now we need to train the models. First we define which hyperparameters to use. (You can change these, for example when *developing* your model you can use a batch size of 2 and a very low dimensionality (say 10), just to speed things up). When actually training your model *fo real*, you can use a batch size of [8,16,32,64], and embedding dimensionality of [128,256]."
   ]
  },
  {
   "cell_type": "code",
   "execution_count": 8,
   "metadata": {
    "pycharm": {
     "name": "#%%\n"
    }
   },
   "outputs": [],
   "source": [
    "# you can change these numbers to suit your needs :)\n",
    "word_embeddings_hyperparameters = {'epochs': 3,\n",
    "                                   'batch_size': 16,\n",
    "                                   'embedding_size': 128,\n",
    "                                   'learning_rate': 0.001,\n",
    "                                   'embedding_dim': 128}"
   ]
  },
  {
   "cell_type": "code",
   "execution_count": 9,
   "metadata": {
    "pycharm": {
     "name": "#%%\n"
    }
   },
   "outputs": [],
   "source": [
    "dataloader = get_data(data_path + 'wiki-corpus.50000.txt')"
   ]
  },
  {
   "cell_type": "code",
   "execution_count": 10,
   "metadata": {
    "pycharm": {
     "name": "#%%\n"
    }
   },
   "outputs": [],
   "source": [
    "cbow_model = CBOWModel(len(dataloader.dataset), word_embeddings_hyperparameters['embedding_dim'])\n",
    "torch.cuda.empty_cache()\n",
    "cbow_model.to(device)\n",
    "loss_fn = nn.CrossEntropyLoss()\n",
    "optimizer = optim.Adam(cbow_model.parameters(), lr=word_embeddings_hyperparameters['learning_rate'])"
   ]
  },
  {
   "cell_type": "markdown",
   "metadata": {
    "pycharm": {
     "name": "#%% md\n"
    }
   },
   "source": [
    "Train your model. Iterate over the dataset, get outputs from your model, calculate loss and backpropagate.\n",
    "\n",
    "We mentioned in the lecture that we use Negative Log Likelihood (https://pytorch.org/docs/stable/generated/torch.nn.NLLLoss.html) loss to train Word2Vec model. In this lab we'll take a shortcut when *training* and use Cross Entropy Loss (https://pytorch.org/docs/stable/generated/torch.nn.CrossEntropyLoss.html), basically it combines ```log_softmax``` and ```NLLLoss```. So what your model should output is a *score* for each word in our vocabulary. The ```CrossEntropyLoss``` will then assign probabilities and calculate the negative log likelihood loss.\n",
    "\n",
    "[3 marks]"
   ]
  },
  {
   "cell_type": "code",
   "execution_count": 11,
   "metadata": {
    "pycharm": {
     "name": "#%%\n"
    }
   },
   "outputs": [
    {
     "name": "stdout",
     "output_type": "stream",
     "text": [
      "Epoch 0: 7.53317\n",
      "Epoch 1: 7.16567.02787.04587.0635\n",
      "Epoch 2: 7.0064\n",
      "CPU times: user 11h 28min 53s, sys: 6h 9min 52s, total: 17h 38min 45s\n",
      "Wall time: 17h 46min 41s\n"
     ]
    }
   ],
   "source": [
    "%%time\n",
    "\n",
    "# start training loop\n",
    "for epoch in range(word_embeddings_hyperparameters['epochs']):\n",
    "    total_loss = 0\n",
    "    for i, batch in enumerate(dataloader):\n",
    "        torch.cuda.empty_cache()\n",
    "        contexts = torch.tensor([sample.context for sample in batch])\n",
    "        target_words = torch.tensor([sample.target_word for sample in batch])\n",
    "\n",
    "        contexts = contexts.to(device)\n",
    "        target_words = target_words.to(device)\n",
    "\n",
    "        # send your batch of sentences to the model\n",
    "        output = cbow_model(contexts)\n",
    "\n",
    "        # compute the loss, you'll need to reshape the input\n",
    "        # you can read more about this is the documentation for\n",
    "        # CrossEntropyLoss\n",
    "        loss = loss_fn(output.view(-1, len(dataloader.dataset)), target_words.view(-1))\n",
    "        total_loss += loss.item()\n",
    "\n",
    "        # print average loss for the epoch\n",
    "        print(f'epoch {epoch},', f'batch {i}:', np.round(total_loss / (i + 1), 4), end='\\r')\n",
    "\n",
    "        # compute gradients\n",
    "        loss.backward()\n",
    "\n",
    "        # update parameters\n",
    "        optimizer.step()\n",
    "\n",
    "        # reset gradients\n",
    "        optimizer.zero_grad()\n",
    "    print()\n"
   ]
  },
  {
   "cell_type": "markdown",
   "metadata": {
    "pycharm": {
     "name": "#%% md\n"
    }
   },
   "source": [
    "## Evaluating the model"
   ]
  },
  {
   "cell_type": "code",
   "execution_count": 12,
   "metadata": {
    "pycharm": {
     "name": "#%%\n"
    }
   },
   "outputs": [
    {
     "name": "stdout",
     "output_type": "stream",
     "text": [
      "[[1.         0.22844377]\n",
      " [0.22844377 1.        ]]\n"
     ]
    }
   ],
   "source": [
    "# your code goes here\n",
    "\n",
    "def read_wordsim(path, vocab, embeddings):\n",
    "    dataset_sims = []\n",
    "    model_sims = []\n",
    "    with open(path) as f:\n",
    "        for line in f:\n",
    "            word1, word2, score = line.split()\n",
    "\n",
    "            score = float(score)\n",
    "\n",
    "            # get the index for the word\n",
    "            if word1 in vocab and word2 in vocab:\n",
    "                dataset_sims.append(score)\n",
    "                word1_idx = vocab[word1]\n",
    "                word2_idx = vocab[word2]\n",
    "\n",
    "                # get the embedding of the word\n",
    "                word1_emb = embeddings.weight[word1_idx]\n",
    "                word2_emb = embeddings.weight[word2_idx]\n",
    "                # compute cosine similarity, we'll use the version included in pytorch functional\n",
    "                # https://pytorch.org/docs/master/generated/torch.nn.functional.cosine_similarity.html\n",
    "                cosine_similarity = F.cosine_similarity(word1_emb, word2_emb, dim=0)\n",
    "\n",
    "                model_sims.append(cosine_similarity.item())\n",
    "\n",
    "\n",
    "\n",
    "    return dataset_sims, model_sims\n",
    "\n",
    "\n",
    "path = 'wordsim_similarity_goldstandard.txt'\n",
    "data, model = read_wordsim(data_path + path, dataloader.dataset.getVocab(), cbow_model.embeddings)\n",
    "pearson_correlation = np.corrcoef(data, model)\n",
    "\n",
    "# the non-diagonals give the pearson correlation,\n",
    "print(pearson_correlation)"
   ]
  },
  {
   "cell_type": "markdown",
   "metadata": {},
   "source": [
    "### Results\n",
    "#### full wiki-50000\n",
    "```\n",
    "Epoch 0: 7.5331\n",
    "Epoch 1: 7.1656\n",
    "Epoch 2: 7.0064\n",
    "CPU times: user 11h 28min 53s, sys: 6h 9min 52s, total: 17h 38min 45s\n",
    "Wall time: 17h 46min 41s\n",
    "\n",
    "[[1.         0.22844377]\n",
    " [0.22844377 1.        ]]\n",
    "```"
   ]
  },
  {
   "cell_type": "markdown",
   "metadata": {
    "pycharm": {
     "name": "#%% md\n"
    }
   },
   "source": [
    "Do you think the model performs good or bad? Why?\n",
    "\n",
    "[3 marks]"
   ]
  },
  {
   "cell_type": "code",
   "execution_count": null,
   "metadata": {
    "pycharm": {
     "name": "#%%\n"
    }
   },
   "outputs": [],
   "source": []
  },
  {
   "cell_type": "markdown",
   "metadata": {
    "pycharm": {
     "name": "#%% md\n"
    }
   },
   "source": [
    "Select the 10 best and 10 worst performing word pairs, can you see any patterns that explain why *these* are the best and worst word pairs?\n",
    "\n",
    "[3 marks]"
   ]
  },
  {
   "cell_type": "code",
   "execution_count": null,
   "metadata": {
    "pycharm": {
     "name": "#%%\n"
    }
   },
   "outputs": [],
   "source": []
  },
  {
   "cell_type": "markdown",
   "metadata": {
    "pycharm": {
     "name": "#%% md\n"
    }
   },
   "source": [
    "Suggest some ways of improving the model we apply to WordSim353.\n",
    "\n",
    "[3 marks]"
   ]
  },
  {
   "cell_type": "code",
   "execution_count": null,
   "metadata": {
    "pycharm": {
     "name": "#%%\n"
    }
   },
   "outputs": [],
   "source": []
  },
  {
   "cell_type": "markdown",
   "metadata": {
    "pycharm": {
     "name": "#%% md\n"
    }
   },
   "source": [
    "If we consider a scenario where we use these embeddings in a downstream task, for example sentiment analysis (roughly: determining whether a sentence is positive or negative). \n",
    "\n",
    "Give some examples why the sentiment analysis model would benefit from our embeddnings and one examples why our embeddings could hur the performance of the sentiment model.\n",
    "\n",
    "[3 marks]"
   ]
  },
  {
   "cell_type": "code",
   "execution_count": null,
   "metadata": {
    "pycharm": {
     "name": "#%%\n"
    }
   },
   "outputs": [],
   "source": []
  },
  {
   "cell_type": "markdown",
   "metadata": {
    "pycharm": {
     "name": "#%% md\n"
    }
   },
   "source": [
    "# Language modeling"
   ]
  },
  {
   "cell_type": "markdown",
   "metadata": {
    "pycharm": {
     "name": "#%% md\n"
    }
   },
   "source": [
    "In this second part we'll build a simple LSTM language model. Your task is to construct a model which takes a sentence as input and predict the next word for each word in the sentence. For this you'll use the ```LSTM``` class provided by PyTorch (https://pytorch.org/docs/stable/generated/torch.nn.LSTM.html). You can read more about the LSTM here: https://colah.github.io/posts/2015-08-Understanding-LSTMs/\n",
    "\n",
    "NOTE!!!: Use the same dataset (wiki-corpus.50000.txt) as before.\n",
    "\n",
    "Our setup is similar to before, we first encode the words as distributed representations then pass these to the LSTM and for each output we predict the next word.\n",
    "\n",
    "For this we'll build a new dataloader with torchtext, the file we pass to the dataloader should contain one sentence per line, with words separated by whitespace.\n",
    "\n",
    "```\n",
    "word_1, ..., word_n\n",
    "word_1, ..., word_k\n",
    "...\n",
    "```\n",
    "\n",
    "in this dataloader you want to make sure that each sentence begins with a ```<start>``` token and ends with a ```<end>``` token, there is a keyword argument in ```Field``` for this :). But other than that, as before you read the dataset and output a iterator over the dataset and a vocabulary. \n",
    "\n",
    "Implement the dataloader, language model and the training loop (the training loop will basically be the same as for word2vec).\n",
    "\n",
    "[12 marks]"
   ]
  },
  {
   "cell_type": "code",
   "execution_count": 13,
   "metadata": {
    "pycharm": {
     "name": "#%%\n"
    }
   },
   "outputs": [],
   "source": [
    "# you can change these numbers to suit your needs as before :)\n",
    "lm_hyperparameters = {'epochs': 3,\n",
    "                      'batch_size': 16,\n",
    "                      'learning_rate': 0.001,\n",
    "                      'embedding_dim': 128,\n",
    "                      'output_dim': 128}"
   ]
  },
  {
   "cell_type": "code",
   "execution_count": 14,
   "metadata": {
    "pycharm": {
     "name": "#%%\n"
    }
   },
   "outputs": [
    {
     "ename": "IndentationError",
     "evalue": "expected an indented block (1192013187.py, line 6)",
     "output_type": "error",
     "traceback": [
      "\u001b[0;36m  File \u001b[0;32m\"/tmp/ipykernel_2835848/1192013187.py\"\u001b[0;36m, line \u001b[0;32m6\u001b[0m\n\u001b[0;31m    # your code here, roughly the same as for the word2vec dataloader\u001b[0m\n\u001b[0m                                                                     ^\u001b[0m\n\u001b[0;31mIndentationError\u001b[0m\u001b[0;31m:\u001b[0m expected an indented block\n"
     ]
    }
   ],
   "source": [
    "data_path = 'wiki-corpus.txt'\n",
    "\n",
    "\n",
    "def get_data():\n",
    "\n",
    "# your code here, roughly the same as for the word2vec dataloader"
   ]
  },
  {
   "cell_type": "code",
   "execution_count": null,
   "metadata": {
    "pycharm": {
     "name": "#%%\n"
    }
   },
   "outputs": [],
   "source": [
    "class LM_withLSTM(nn.Module):\n",
    "    def __init__(...):\n",
    "        super(LM_withLSTM, self).__init__()\n",
    "        self.embeddings = ...\n",
    "        self.LSTM = ...\n",
    "        self.predict_word = ...\n",
    "\n",
    "    def forward(self, seq):\n",
    "        embedded_seq = ...\n",
    "        timestep_reprentation, *_ = ...\n",
    "        predicted_words = ...\n",
    "\n",
    "        return predicted_words"
   ]
  },
  {
   "cell_type": "code",
   "execution_count": null,
   "metadata": {
    "pycharm": {
     "name": "#%%\n"
    }
   },
   "outputs": [],
   "source": [
    "# load data\n",
    "dataset, vocab = get_data(...)\n",
    "\n",
    "# build model and construct loss/optimizer\n",
    "lm_model = LM_withLSTM(len(vocab),\n",
    "                       lm_hyperparameters['embedding_dim'],\n",
    "                       lm_hyperparameters['output_dim'])\n",
    "lm_model.to(device)\n",
    "\n",
    "loss_fn = CrossEntropyLoss()\n",
    "optimizer = optim.Adam(cbow_model.parameters(), lr=lm_hyperparameters['lr'])\n",
    "\n",
    "# start training loop\n",
    "total_loss = 0\n",
    "for epoch in range(lm_hyperparameters['epochs']):\n",
    "    for i, batch in enumerate(dataset):\n",
    "        # the strucure for each BATCH is:\n",
    "        # <start>, w0, ..., wn, <end>\n",
    "        sentence = batch.sentence\n",
    "\n",
    "        # when training the model, at each input we predict the *NEXT* token\n",
    "        # consequently there is nothing to predict when we give the model \n",
    "        # <end> as input. \n",
    "        # thus, we do not want to give <end> as input to the model, select \n",
    "        # from each batch all tokens except the last. \n",
    "        # tip: use pytorch indexing/slicing (same as numpy) \n",
    "        # (https://pytorch.org/tutorials/beginner/basics/tensorqs_tutorial.html#operations-on-tensors)\n",
    "        # (https://jhui.github.io/2018/02/09/PyTorch-Basic-operations/)\n",
    "        input_sentence = ...\n",
    "\n",
    "        # send your batch of sentences to the model\n",
    "        output = lm_model(input_sentence)\n",
    "\n",
    "        # for each output, the model predict the NEXT token, so we have to reshape \n",
    "        # our dataset again. On timestep t, we evaluate on token t+1. That is,\n",
    "        # we never predict the <start> token ;) so this time, we select all but the first \n",
    "        # token from sentences (that is, all the tokens that we predict)\n",
    "        gold_data = ...\n",
    "\n",
    "        # the shape of the output and sentence variable need to be changed,\n",
    "        # for the loss function. Details are in the documentation.\n",
    "        # You can use .view(...,...) to reshape the tensors  \n",
    "        loss = loss_fn(...)\n",
    "        total_loss += loss.item()\n",
    "\n",
    "        # print average loss for the epoch\n",
    "        print(total_loss / (i + 1), end='\\r')\n",
    "\n",
    "        # compute gradients\n",
    "        ...\n",
    "\n",
    "        # update parameters\n",
    "        ...\n",
    "\n",
    "        # reset gradients\n",
    "        ...\n",
    "    print()"
   ]
  },
  {
   "cell_type": "markdown",
   "metadata": {
    "pycharm": {
     "name": "#%% md\n"
    }
   },
   "source": [
    "### Evaluating the language model\n",
    "\n",
    "We'll evaluate our model using the BLiMP dataset (https://github.com/alexwarstadt/blimp). The BLiMP dataset contains sets of linguistic minimal pairs for various syntactic and semantic phenomena, We'll evaluate our model on *existential quantifiers* (link: https://github.com/alexwarstadt/blimp/blob/master/data/existential_there_quantifiers_1.jsonl). This data, as the name suggests, investigate whether language models assign higher probability to *correct* usage of there-quantifiers. \n",
    "\n",
    "An example entry in the dataset is: \n",
    "\n",
    "```\n",
    "{\"sentence_good\": \"There was a documentary about music irritating Allison.\", \"sentence_bad\": \"There was each documentary about music irritating Allison.\", \"field\": \"semantics\", \"linguistics_term\": \"quantifiers\", \"UID\": \"existential_there_quantifiers_1\", \"simple_LM_method\": true, \"one_prefix_method\": false, \"two_prefix_method\": false, \"lexically_identical\": false, \"pairID\": \"0\"}\n",
    "```\n",
    "\n",
    "Download the dataset and build a datareader (similar to what you did for word2vec). The dataset structure you should aim for is (you don't need to worry about the other keys for this assignment):\n",
    "\n",
    "```\n",
    "good_sentence_1, bad_sentence_1\n",
    "...\n",
    "```\n",
    "\n",
    "your task now is to compare the probability assigned to the good sentence with to the probability assigned to the bad sentence. To compute a probability for a sentence we consider the product of the probabilities assigned to the *gold* tokens, remember, at timestep ```t``` we're predicting which token comes *next* e.g. ```t+1``` (basically, you do the same thing as you did when training).\n",
    "\n",
    "In rough pseudo code what your code should do is:\n",
    "\n",
    "```\n",
    "accuracy = []\n",
    "for good_sentence, bad_sentence in dataset:\n",
    "    gs_lm_output = LanguageModel(good_sentence)\n",
    "    gs_token_probabilities = softmax(gs_lm_output)\n",
    "    gs_sentence_probability = product(gs_token_probabilities[GOLD_TOKENS])\n",
    "\n",
    "    bs_lm_output = LanguageModel(bad_sentence)\n",
    "    bs_token_probabilities = softmax(bs_lm_output)\n",
    "    bs_sentence_probability = product(bs_token_probabilities[GOLD_TOKENS])\n",
    "\n",
    "    # int(True) = 1 and int(False) = 0\n",
    "    is_correct = int(gs_sentence_probability > bs_sentence_probability)\n",
    "    accuracy.append(is_correct)\n",
    "\n",
    "print(numpy.mean(accuracy))\n",
    "    \n",
    "```\n",
    "\n",
    "[6 marks]"
   ]
  },
  {
   "cell_type": "code",
   "execution_count": null,
   "metadata": {
    "pycharm": {
     "name": "#%%\n"
    }
   },
   "outputs": [],
   "source": [
    "# your code goes here\n",
    "import json\n",
    "\n",
    "\n",
    "def evaluate_model(path, vocab, model):\n",
    "    accuracy = []\n",
    "    with open(path) as f:\n",
    "        # iterate over one pair of sentences at a time\n",
    "        for line in f:\n",
    "            # load the data\n",
    "            data = json.loads(line)\n",
    "            good_s = data['sentence_good']\n",
    "            bad_s = data['sentence_bad']\n",
    "\n",
    "            # the data is tokenized as whitespace\n",
    "            tok_good_s = ...\n",
    "            tok_bad_s = ...\n",
    "\n",
    "            # encode your words as integers using the vocab from the dataloader, size is (S)\n",
    "            # we use unsqueeze to create the batch dimension \n",
    "            # in this case our input is only ONE batch, so the size of the tensor becomes: \n",
    "            # (S) -> (1, S) as the model expects batches\n",
    "            enc_good_s = torch.tensor([_ for x in tok_good_s], device=device).unsqueeze(0)\n",
    "            enc_bad_s = torch.tensor([_ for x in tok_bad_s], device=device).unsqueeze(0)\n",
    "\n",
    "            # pass your encoded sentences to the model and predict the next tokens\n",
    "            good_s = LM_withLSTM(enc_good_s)\n",
    "            bad_s = LM_withLSTM(enc_bad_s)\n",
    "\n",
    "            # get probabilities with softmax\n",
    "            gs_probs = F.softmax(...)\n",
    "            bs_probs = F.softmax(...)\n",
    "\n",
    "            # select the probability of the gold tokens\n",
    "            gs_sent_prob = find_token_probs(gs_probs, enc_good_s)\n",
    "            bs_sent_prob = find_token_probs(bs_probs, enc_bad_s)\n",
    "\n",
    "            accuracy.append(int(gs_sent_prob > bs_sent_prob))\n",
    "\n",
    "    return accuracy\n",
    "\n",
    "\n",
    "def find_token_probs(model_probs, encoded_sentece):\n",
    "    probs = []\n",
    "\n",
    "    # iterate over the tokens in your encoded sentence\n",
    "    for token, gold_token in enumerate(encoded_sentece):\n",
    "        # select the probability of the gold tokens and save\n",
    "        # hint: pytorch indexing is helpful here ;)\n",
    "        prob = ...\n",
    "        probs.append(prob)\n",
    "    sentence_prob = ...\n",
    "    return sentence_prob\n",
    "\n",
    "\n",
    "path = 'existential_there_quantifiers_1.jsonl'\n",
    "accuracy = evaluate_model(path, ..., ...)\n",
    "\n",
    "print('Final accuracy:')\n",
    "print(np.round(np.mean(accuracy), 3))\n"
   ]
  },
  {
   "cell_type": "markdown",
   "metadata": {
    "pycharm": {
     "name": "#%% md\n"
    }
   },
   "source": [
    "### Analysis"
   ]
  },
  {
   "cell_type": "markdown",
   "metadata": {
    "pycharm": {
     "name": "#%% md\n"
    }
   },
   "source": [
    "Our model get some score, say, 55% correct predictions. Is this good? Suggest some *baseline* (i.e. a stupid \"model\" we hope ours is better than) we can compare the model against.\n",
    "\n",
    "[3 marks]"
   ]
  },
  {
   "cell_type": "code",
   "execution_count": null,
   "metadata": {
    "pycharm": {
     "name": "#%%\n"
    }
   },
   "outputs": [],
   "source": []
  },
  {
   "cell_type": "markdown",
   "metadata": {
    "pycharm": {
     "name": "#%% md\n"
    }
   },
   "source": [
    "Suggest some improvements you could make to your language model.\n",
    "\n",
    "[3 marks]"
   ]
  },
  {
   "cell_type": "code",
   "execution_count": null,
   "metadata": {
    "pycharm": {
     "name": "#%%\n"
    }
   },
   "outputs": [],
   "source": []
  },
  {
   "cell_type": "markdown",
   "metadata": {
    "pycharm": {
     "name": "#%% md\n"
    }
   },
   "source": [
    "Suggest some other metrics we can use to evaluate our system\n",
    "\n",
    "[2 marks]"
   ]
  },
  {
   "cell_type": "code",
   "execution_count": null,
   "metadata": {
    "pycharm": {
     "name": "#%%\n"
    }
   },
   "outputs": [],
   "source": []
  },
  {
   "cell_type": "markdown",
   "metadata": {
    "pycharm": {
     "name": "#%% md\n"
    }
   },
   "source": [
    "# Literature\n",
    "\n",
    "\n",
    "Neural architectures:\n",
    "* Y. Bengio, R. Ducharme, P. Vincent, and C. Janvin. A neural probabilistic language model. (Links to an external site.) Journal of Machine Learning Research, 3(6):1137–1155, 2003. (Sections 3 and 4 are less relevant today and hence you can glance through them quickly. Instead, look at the Mikolov papers where they describe training word embeddings with the current neural network architectures.)\n",
    "* T. Mikolov, K. Chen, G. Corrado, and J. Dean. Efficient estimation of word representations in vector space. arXiv preprint arXiv:1301.3781, 2013.\n",
    "* T. Mikolov, I. Sutskever, K. Chen, G. S. Corrado, and J. Dean. Distributed representations of words and phrases and their compositionality. In Advances in neural information processing systems, pages 3111–3119, 2013.\n",
    "    \n"
   ]
  },
  {
   "cell_type": "markdown",
   "metadata": {
    "pycharm": {
     "name": "#%% md\n"
    }
   },
   "source": [
    "## Statement of contribution\n",
    "\n",
    "Briefly state how many times you have met for discussions, who was present, to what degree each member contributed to the discussion and the final answers you are submitting."
   ]
  },
  {
   "cell_type": "markdown",
   "metadata": {
    "pycharm": {
     "name": "#%% md\n"
    }
   },
   "source": [
    "Total marks: 63"
   ]
  }
 ],
 "metadata": {
  "kernelspec": {
   "display_name": "Python 3 (ipykernel)",
   "language": "python",
   "name": "python3"
  },
  "language_info": {
   "codemirror_mode": {
    "name": "ipython",
    "version": 3
   },
   "file_extension": ".py",
   "mimetype": "text/x-python",
   "name": "python",
   "nbconvert_exporter": "python",
   "pygments_lexer": "ipython3",
   "version": "3.9.10"
  }
 },
 "nbformat": 4,
 "nbformat_minor": 4
}
